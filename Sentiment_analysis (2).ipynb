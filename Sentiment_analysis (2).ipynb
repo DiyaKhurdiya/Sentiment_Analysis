{
  "nbformat": 4,
  "nbformat_minor": 0,
  "metadata": {
    "colab": {
      "provenance": []
    },
    "kernelspec": {
      "name": "python3",
      "display_name": "Python 3"
    },
    "language_info": {
      "name": "python"
    }
  },
  "cells": [
    {
      "cell_type": "code",
      "execution_count": null,
      "metadata": {
        "id": "auAUazp91Kr4"
      },
      "outputs": [],
      "source": [
        "import pandas as pd\n",
        "import numpy as np\n",
        "import matplotlib.pyplot as plt\n",
        "import seaborn as sns\n"
      ]
    },
    {
      "cell_type": "code",
      "source": [
        "data1 = pd.read_csv('Dataset-SA.csv')\n",
        "data1"
      ],
      "metadata": {
        "colab": {
          "base_uri": "https://localhost:8080/",
          "height": 423
        },
        "id": "WVO8iZMG1pBa",
        "outputId": "bf788279-b043-4251-e091-5abff7644e1a"
      },
      "execution_count": null,
      "outputs": [
        {
          "output_type": "execute_result",
          "data": {
            "text/plain": [
              "                                             product_name product_price Rate  \\\n",
              "0       Candes 12 L Room/Personal Air Cooler??????(Whi...          3999    5   \n",
              "1       Candes 12 L Room/Personal Air Cooler??????(Whi...          3999    5   \n",
              "2       Candes 12 L Room/Personal Air Cooler??????(Whi...          3999    3   \n",
              "3       Candes 12 L Room/Personal Air Cooler??????(Whi...          3999    1   \n",
              "4       Candes 12 L Room/Personal Air Cooler??????(Whi...          3999    3   \n",
              "...                                                   ...           ...  ...   \n",
              "205047  cello Pack of 18 Opalware Cello Dazzle Lush Fi...          1299    5   \n",
              "205048  cello Pack of 18 Opalware Cello Dazzle Lush Fi...          1299    5   \n",
              "205049  cello Pack of 18 Opalware Cello Dazzle Lush Fi...          1299    3   \n",
              "205050  cello Pack of 18 Opalware Cello Dazzle Lush Fi...          1299    5   \n",
              "205051  cello Pack of 18 Opalware Cello Dazzle Lush Fi...          1299    4   \n",
              "\n",
              "                 Review                                            Summary  \\\n",
              "0                super!  great cooler excellent air flow and for this p...   \n",
              "1               awesome              best budget 2 fit cooler nice cooling   \n",
              "2                  fair  the quality is good but the power of air is de...   \n",
              "3       useless product                  very bad product its a only a fan   \n",
              "4                  fair                                      ok ok product   \n",
              "...                 ...                                                ...   \n",
              "205047        must buy!                                       good product   \n",
              "205048           super!                                               nice   \n",
              "205049             nice                        very nice and fast delivery   \n",
              "205050        just wow!                                    awesome product   \n",
              "205051  value-for-money  very good but mixing bowl not included is one ...   \n",
              "\n",
              "       Sentiment  \n",
              "0       positive  \n",
              "1       positive  \n",
              "2       positive  \n",
              "3       negative  \n",
              "4        neutral  \n",
              "...          ...  \n",
              "205047  positive  \n",
              "205048  positive  \n",
              "205049  positive  \n",
              "205050  positive  \n",
              "205051   neutral  \n",
              "\n",
              "[205052 rows x 6 columns]"
            ],
            "text/html": [
              "\n",
              "  <div id=\"df-fa8ee2a0-839f-4c64-9587-2bae5a849e8c\">\n",
              "    <div class=\"colab-df-container\">\n",
              "      <div>\n",
              "<style scoped>\n",
              "    .dataframe tbody tr th:only-of-type {\n",
              "        vertical-align: middle;\n",
              "    }\n",
              "\n",
              "    .dataframe tbody tr th {\n",
              "        vertical-align: top;\n",
              "    }\n",
              "\n",
              "    .dataframe thead th {\n",
              "        text-align: right;\n",
              "    }\n",
              "</style>\n",
              "<table border=\"1\" class=\"dataframe\">\n",
              "  <thead>\n",
              "    <tr style=\"text-align: right;\">\n",
              "      <th></th>\n",
              "      <th>product_name</th>\n",
              "      <th>product_price</th>\n",
              "      <th>Rate</th>\n",
              "      <th>Review</th>\n",
              "      <th>Summary</th>\n",
              "      <th>Sentiment</th>\n",
              "    </tr>\n",
              "  </thead>\n",
              "  <tbody>\n",
              "    <tr>\n",
              "      <th>0</th>\n",
              "      <td>Candes 12 L Room/Personal Air Cooler??????(Whi...</td>\n",
              "      <td>3999</td>\n",
              "      <td>5</td>\n",
              "      <td>super!</td>\n",
              "      <td>great cooler excellent air flow and for this p...</td>\n",
              "      <td>positive</td>\n",
              "    </tr>\n",
              "    <tr>\n",
              "      <th>1</th>\n",
              "      <td>Candes 12 L Room/Personal Air Cooler??????(Whi...</td>\n",
              "      <td>3999</td>\n",
              "      <td>5</td>\n",
              "      <td>awesome</td>\n",
              "      <td>best budget 2 fit cooler nice cooling</td>\n",
              "      <td>positive</td>\n",
              "    </tr>\n",
              "    <tr>\n",
              "      <th>2</th>\n",
              "      <td>Candes 12 L Room/Personal Air Cooler??????(Whi...</td>\n",
              "      <td>3999</td>\n",
              "      <td>3</td>\n",
              "      <td>fair</td>\n",
              "      <td>the quality is good but the power of air is de...</td>\n",
              "      <td>positive</td>\n",
              "    </tr>\n",
              "    <tr>\n",
              "      <th>3</th>\n",
              "      <td>Candes 12 L Room/Personal Air Cooler??????(Whi...</td>\n",
              "      <td>3999</td>\n",
              "      <td>1</td>\n",
              "      <td>useless product</td>\n",
              "      <td>very bad product its a only a fan</td>\n",
              "      <td>negative</td>\n",
              "    </tr>\n",
              "    <tr>\n",
              "      <th>4</th>\n",
              "      <td>Candes 12 L Room/Personal Air Cooler??????(Whi...</td>\n",
              "      <td>3999</td>\n",
              "      <td>3</td>\n",
              "      <td>fair</td>\n",
              "      <td>ok ok product</td>\n",
              "      <td>neutral</td>\n",
              "    </tr>\n",
              "    <tr>\n",
              "      <th>...</th>\n",
              "      <td>...</td>\n",
              "      <td>...</td>\n",
              "      <td>...</td>\n",
              "      <td>...</td>\n",
              "      <td>...</td>\n",
              "      <td>...</td>\n",
              "    </tr>\n",
              "    <tr>\n",
              "      <th>205047</th>\n",
              "      <td>cello Pack of 18 Opalware Cello Dazzle Lush Fi...</td>\n",
              "      <td>1299</td>\n",
              "      <td>5</td>\n",
              "      <td>must buy!</td>\n",
              "      <td>good product</td>\n",
              "      <td>positive</td>\n",
              "    </tr>\n",
              "    <tr>\n",
              "      <th>205048</th>\n",
              "      <td>cello Pack of 18 Opalware Cello Dazzle Lush Fi...</td>\n",
              "      <td>1299</td>\n",
              "      <td>5</td>\n",
              "      <td>super!</td>\n",
              "      <td>nice</td>\n",
              "      <td>positive</td>\n",
              "    </tr>\n",
              "    <tr>\n",
              "      <th>205049</th>\n",
              "      <td>cello Pack of 18 Opalware Cello Dazzle Lush Fi...</td>\n",
              "      <td>1299</td>\n",
              "      <td>3</td>\n",
              "      <td>nice</td>\n",
              "      <td>very nice and fast delivery</td>\n",
              "      <td>positive</td>\n",
              "    </tr>\n",
              "    <tr>\n",
              "      <th>205050</th>\n",
              "      <td>cello Pack of 18 Opalware Cello Dazzle Lush Fi...</td>\n",
              "      <td>1299</td>\n",
              "      <td>5</td>\n",
              "      <td>just wow!</td>\n",
              "      <td>awesome product</td>\n",
              "      <td>positive</td>\n",
              "    </tr>\n",
              "    <tr>\n",
              "      <th>205051</th>\n",
              "      <td>cello Pack of 18 Opalware Cello Dazzle Lush Fi...</td>\n",
              "      <td>1299</td>\n",
              "      <td>4</td>\n",
              "      <td>value-for-money</td>\n",
              "      <td>very good but mixing bowl not included is one ...</td>\n",
              "      <td>neutral</td>\n",
              "    </tr>\n",
              "  </tbody>\n",
              "</table>\n",
              "<p>205052 rows × 6 columns</p>\n",
              "</div>\n",
              "      <button class=\"colab-df-convert\" onclick=\"convertToInteractive('df-fa8ee2a0-839f-4c64-9587-2bae5a849e8c')\"\n",
              "              title=\"Convert this dataframe to an interactive table.\"\n",
              "              style=\"display:none;\">\n",
              "        \n",
              "  <svg xmlns=\"http://www.w3.org/2000/svg\" height=\"24px\"viewBox=\"0 0 24 24\"\n",
              "       width=\"24px\">\n",
              "    <path d=\"M0 0h24v24H0V0z\" fill=\"none\"/>\n",
              "    <path d=\"M18.56 5.44l.94 2.06.94-2.06 2.06-.94-2.06-.94-.94-2.06-.94 2.06-2.06.94zm-11 1L8.5 8.5l.94-2.06 2.06-.94-2.06-.94L8.5 2.5l-.94 2.06-2.06.94zm10 10l.94 2.06.94-2.06 2.06-.94-2.06-.94-.94-2.06-.94 2.06-2.06.94z\"/><path d=\"M17.41 7.96l-1.37-1.37c-.4-.4-.92-.59-1.43-.59-.52 0-1.04.2-1.43.59L10.3 9.45l-7.72 7.72c-.78.78-.78 2.05 0 2.83L4 21.41c.39.39.9.59 1.41.59.51 0 1.02-.2 1.41-.59l7.78-7.78 2.81-2.81c.8-.78.8-2.07 0-2.86zM5.41 20L4 18.59l7.72-7.72 1.47 1.35L5.41 20z\"/>\n",
              "  </svg>\n",
              "      </button>\n",
              "      \n",
              "  <style>\n",
              "    .colab-df-container {\n",
              "      display:flex;\n",
              "      flex-wrap:wrap;\n",
              "      gap: 12px;\n",
              "    }\n",
              "\n",
              "    .colab-df-convert {\n",
              "      background-color: #E8F0FE;\n",
              "      border: none;\n",
              "      border-radius: 50%;\n",
              "      cursor: pointer;\n",
              "      display: none;\n",
              "      fill: #1967D2;\n",
              "      height: 32px;\n",
              "      padding: 0 0 0 0;\n",
              "      width: 32px;\n",
              "    }\n",
              "\n",
              "    .colab-df-convert:hover {\n",
              "      background-color: #E2EBFA;\n",
              "      box-shadow: 0px 1px 2px rgba(60, 64, 67, 0.3), 0px 1px 3px 1px rgba(60, 64, 67, 0.15);\n",
              "      fill: #174EA6;\n",
              "    }\n",
              "\n",
              "    [theme=dark] .colab-df-convert {\n",
              "      background-color: #3B4455;\n",
              "      fill: #D2E3FC;\n",
              "    }\n",
              "\n",
              "    [theme=dark] .colab-df-convert:hover {\n",
              "      background-color: #434B5C;\n",
              "      box-shadow: 0px 1px 3px 1px rgba(0, 0, 0, 0.15);\n",
              "      filter: drop-shadow(0px 1px 2px rgba(0, 0, 0, 0.3));\n",
              "      fill: #FFFFFF;\n",
              "    }\n",
              "  </style>\n",
              "\n",
              "      <script>\n",
              "        const buttonEl =\n",
              "          document.querySelector('#df-fa8ee2a0-839f-4c64-9587-2bae5a849e8c button.colab-df-convert');\n",
              "        buttonEl.style.display =\n",
              "          google.colab.kernel.accessAllowed ? 'block' : 'none';\n",
              "\n",
              "        async function convertToInteractive(key) {\n",
              "          const element = document.querySelector('#df-fa8ee2a0-839f-4c64-9587-2bae5a849e8c');\n",
              "          const dataTable =\n",
              "            await google.colab.kernel.invokeFunction('convertToInteractive',\n",
              "                                                     [key], {});\n",
              "          if (!dataTable) return;\n",
              "\n",
              "          const docLinkHtml = 'Like what you see? Visit the ' +\n",
              "            '<a target=\"_blank\" href=https://colab.research.google.com/notebooks/data_table.ipynb>data table notebook</a>'\n",
              "            + ' to learn more about interactive tables.';\n",
              "          element.innerHTML = '';\n",
              "          dataTable['output_type'] = 'display_data';\n",
              "          await google.colab.output.renderOutput(dataTable, element);\n",
              "          const docLink = document.createElement('div');\n",
              "          docLink.innerHTML = docLinkHtml;\n",
              "          element.appendChild(docLink);\n",
              "        }\n",
              "      </script>\n",
              "    </div>\n",
              "  </div>\n",
              "  "
            ]
          },
          "metadata": {},
          "execution_count": 2
        }
      ]
    },
    {
      "cell_type": "code",
      "source": [
        "data1['Review'] = data1['Review'].astype(str)\n",
        "data1['Summary'] = data1['Summary'].astype(str)"
      ],
      "metadata": {
        "id": "LZ7hS_XqOI0b"
      },
      "execution_count": null,
      "outputs": []
    },
    {
      "cell_type": "code",
      "source": [
        "data1.dtypes"
      ],
      "metadata": {
        "colab": {
          "base_uri": "https://localhost:8080/"
        },
        "id": "Mjj7x1VMO1HY",
        "outputId": "1e378797-dda9-4246-d72b-cdd69df08699"
      },
      "execution_count": null,
      "outputs": [
        {
          "output_type": "execute_result",
          "data": {
            "text/plain": [
              "product_name     object\n",
              "product_price    object\n",
              "Rate             object\n",
              "Review           object\n",
              "Summary          object\n",
              "Sentiment        object\n",
              "dtype: object"
            ]
          },
          "metadata": {},
          "execution_count": 4
        }
      ]
    },
    {
      "cell_type": "code",
      "source": [
        "data1['Reviews'] = data1[['Review', 'Summary']].agg(' '.join, axis=1)\n",
        "data1.drop(['Summary'], axis=1, inplace = True)"
      ],
      "metadata": {
        "id": "cx6XsjKvrwVm"
      },
      "execution_count": null,
      "outputs": []
    },
    {
      "cell_type": "code",
      "source": [
        "data1.drop(['Review'], axis=1, inplace = True)"
      ],
      "metadata": {
        "id": "iiGMpPug1tyJ"
      },
      "execution_count": null,
      "outputs": []
    },
    {
      "cell_type": "code",
      "source": [
        "data1"
      ],
      "metadata": {
        "colab": {
          "base_uri": "https://localhost:8080/",
          "height": 423
        },
        "id": "Wyl6DSq7zGfe",
        "outputId": "3ebb23ea-9191-4f36-8d3f-9eb83dd7c6e3"
      },
      "execution_count": null,
      "outputs": [
        {
          "output_type": "execute_result",
          "data": {
            "text/plain": [
              "                                             product_name product_price Rate  \\\n",
              "0       Candes 12 L Room/Personal Air Cooler??????(Whi...          3999    5   \n",
              "1       Candes 12 L Room/Personal Air Cooler??????(Whi...          3999    5   \n",
              "2       Candes 12 L Room/Personal Air Cooler??????(Whi...          3999    3   \n",
              "3       Candes 12 L Room/Personal Air Cooler??????(Whi...          3999    1   \n",
              "4       Candes 12 L Room/Personal Air Cooler??????(Whi...          3999    3   \n",
              "...                                                   ...           ...  ...   \n",
              "205047  cello Pack of 18 Opalware Cello Dazzle Lush Fi...          1299    5   \n",
              "205048  cello Pack of 18 Opalware Cello Dazzle Lush Fi...          1299    5   \n",
              "205049  cello Pack of 18 Opalware Cello Dazzle Lush Fi...          1299    3   \n",
              "205050  cello Pack of 18 Opalware Cello Dazzle Lush Fi...          1299    5   \n",
              "205051  cello Pack of 18 Opalware Cello Dazzle Lush Fi...          1299    4   \n",
              "\n",
              "       Sentiment                                            Reviews  \n",
              "0       positive  super! great cooler excellent air flow and for...  \n",
              "1       positive      awesome best budget 2 fit cooler nice cooling  \n",
              "2       positive  fair the quality is good but the power of air ...  \n",
              "3       negative  useless product very bad product its a only a fan  \n",
              "4        neutral                                 fair ok ok product  \n",
              "...          ...                                                ...  \n",
              "205047  positive                             must buy! good product  \n",
              "205048  positive                                        super! nice  \n",
              "205049  positive                   nice very nice and fast delivery  \n",
              "205050  positive                          just wow! awesome product  \n",
              "205051   neutral  value-for-money very good but mixing bowl not ...  \n",
              "\n",
              "[205052 rows x 5 columns]"
            ],
            "text/html": [
              "\n",
              "  <div id=\"df-1f7ad2ab-c7c8-4321-99cf-0fc6946d3969\">\n",
              "    <div class=\"colab-df-container\">\n",
              "      <div>\n",
              "<style scoped>\n",
              "    .dataframe tbody tr th:only-of-type {\n",
              "        vertical-align: middle;\n",
              "    }\n",
              "\n",
              "    .dataframe tbody tr th {\n",
              "        vertical-align: top;\n",
              "    }\n",
              "\n",
              "    .dataframe thead th {\n",
              "        text-align: right;\n",
              "    }\n",
              "</style>\n",
              "<table border=\"1\" class=\"dataframe\">\n",
              "  <thead>\n",
              "    <tr style=\"text-align: right;\">\n",
              "      <th></th>\n",
              "      <th>product_name</th>\n",
              "      <th>product_price</th>\n",
              "      <th>Rate</th>\n",
              "      <th>Sentiment</th>\n",
              "      <th>Reviews</th>\n",
              "    </tr>\n",
              "  </thead>\n",
              "  <tbody>\n",
              "    <tr>\n",
              "      <th>0</th>\n",
              "      <td>Candes 12 L Room/Personal Air Cooler??????(Whi...</td>\n",
              "      <td>3999</td>\n",
              "      <td>5</td>\n",
              "      <td>positive</td>\n",
              "      <td>super! great cooler excellent air flow and for...</td>\n",
              "    </tr>\n",
              "    <tr>\n",
              "      <th>1</th>\n",
              "      <td>Candes 12 L Room/Personal Air Cooler??????(Whi...</td>\n",
              "      <td>3999</td>\n",
              "      <td>5</td>\n",
              "      <td>positive</td>\n",
              "      <td>awesome best budget 2 fit cooler nice cooling</td>\n",
              "    </tr>\n",
              "    <tr>\n",
              "      <th>2</th>\n",
              "      <td>Candes 12 L Room/Personal Air Cooler??????(Whi...</td>\n",
              "      <td>3999</td>\n",
              "      <td>3</td>\n",
              "      <td>positive</td>\n",
              "      <td>fair the quality is good but the power of air ...</td>\n",
              "    </tr>\n",
              "    <tr>\n",
              "      <th>3</th>\n",
              "      <td>Candes 12 L Room/Personal Air Cooler??????(Whi...</td>\n",
              "      <td>3999</td>\n",
              "      <td>1</td>\n",
              "      <td>negative</td>\n",
              "      <td>useless product very bad product its a only a fan</td>\n",
              "    </tr>\n",
              "    <tr>\n",
              "      <th>4</th>\n",
              "      <td>Candes 12 L Room/Personal Air Cooler??????(Whi...</td>\n",
              "      <td>3999</td>\n",
              "      <td>3</td>\n",
              "      <td>neutral</td>\n",
              "      <td>fair ok ok product</td>\n",
              "    </tr>\n",
              "    <tr>\n",
              "      <th>...</th>\n",
              "      <td>...</td>\n",
              "      <td>...</td>\n",
              "      <td>...</td>\n",
              "      <td>...</td>\n",
              "      <td>...</td>\n",
              "    </tr>\n",
              "    <tr>\n",
              "      <th>205047</th>\n",
              "      <td>cello Pack of 18 Opalware Cello Dazzle Lush Fi...</td>\n",
              "      <td>1299</td>\n",
              "      <td>5</td>\n",
              "      <td>positive</td>\n",
              "      <td>must buy! good product</td>\n",
              "    </tr>\n",
              "    <tr>\n",
              "      <th>205048</th>\n",
              "      <td>cello Pack of 18 Opalware Cello Dazzle Lush Fi...</td>\n",
              "      <td>1299</td>\n",
              "      <td>5</td>\n",
              "      <td>positive</td>\n",
              "      <td>super! nice</td>\n",
              "    </tr>\n",
              "    <tr>\n",
              "      <th>205049</th>\n",
              "      <td>cello Pack of 18 Opalware Cello Dazzle Lush Fi...</td>\n",
              "      <td>1299</td>\n",
              "      <td>3</td>\n",
              "      <td>positive</td>\n",
              "      <td>nice very nice and fast delivery</td>\n",
              "    </tr>\n",
              "    <tr>\n",
              "      <th>205050</th>\n",
              "      <td>cello Pack of 18 Opalware Cello Dazzle Lush Fi...</td>\n",
              "      <td>1299</td>\n",
              "      <td>5</td>\n",
              "      <td>positive</td>\n",
              "      <td>just wow! awesome product</td>\n",
              "    </tr>\n",
              "    <tr>\n",
              "      <th>205051</th>\n",
              "      <td>cello Pack of 18 Opalware Cello Dazzle Lush Fi...</td>\n",
              "      <td>1299</td>\n",
              "      <td>4</td>\n",
              "      <td>neutral</td>\n",
              "      <td>value-for-money very good but mixing bowl not ...</td>\n",
              "    </tr>\n",
              "  </tbody>\n",
              "</table>\n",
              "<p>205052 rows × 5 columns</p>\n",
              "</div>\n",
              "      <button class=\"colab-df-convert\" onclick=\"convertToInteractive('df-1f7ad2ab-c7c8-4321-99cf-0fc6946d3969')\"\n",
              "              title=\"Convert this dataframe to an interactive table.\"\n",
              "              style=\"display:none;\">\n",
              "        \n",
              "  <svg xmlns=\"http://www.w3.org/2000/svg\" height=\"24px\"viewBox=\"0 0 24 24\"\n",
              "       width=\"24px\">\n",
              "    <path d=\"M0 0h24v24H0V0z\" fill=\"none\"/>\n",
              "    <path d=\"M18.56 5.44l.94 2.06.94-2.06 2.06-.94-2.06-.94-.94-2.06-.94 2.06-2.06.94zm-11 1L8.5 8.5l.94-2.06 2.06-.94-2.06-.94L8.5 2.5l-.94 2.06-2.06.94zm10 10l.94 2.06.94-2.06 2.06-.94-2.06-.94-.94-2.06-.94 2.06-2.06.94z\"/><path d=\"M17.41 7.96l-1.37-1.37c-.4-.4-.92-.59-1.43-.59-.52 0-1.04.2-1.43.59L10.3 9.45l-7.72 7.72c-.78.78-.78 2.05 0 2.83L4 21.41c.39.39.9.59 1.41.59.51 0 1.02-.2 1.41-.59l7.78-7.78 2.81-2.81c.8-.78.8-2.07 0-2.86zM5.41 20L4 18.59l7.72-7.72 1.47 1.35L5.41 20z\"/>\n",
              "  </svg>\n",
              "      </button>\n",
              "      \n",
              "  <style>\n",
              "    .colab-df-container {\n",
              "      display:flex;\n",
              "      flex-wrap:wrap;\n",
              "      gap: 12px;\n",
              "    }\n",
              "\n",
              "    .colab-df-convert {\n",
              "      background-color: #E8F0FE;\n",
              "      border: none;\n",
              "      border-radius: 50%;\n",
              "      cursor: pointer;\n",
              "      display: none;\n",
              "      fill: #1967D2;\n",
              "      height: 32px;\n",
              "      padding: 0 0 0 0;\n",
              "      width: 32px;\n",
              "    }\n",
              "\n",
              "    .colab-df-convert:hover {\n",
              "      background-color: #E2EBFA;\n",
              "      box-shadow: 0px 1px 2px rgba(60, 64, 67, 0.3), 0px 1px 3px 1px rgba(60, 64, 67, 0.15);\n",
              "      fill: #174EA6;\n",
              "    }\n",
              "\n",
              "    [theme=dark] .colab-df-convert {\n",
              "      background-color: #3B4455;\n",
              "      fill: #D2E3FC;\n",
              "    }\n",
              "\n",
              "    [theme=dark] .colab-df-convert:hover {\n",
              "      background-color: #434B5C;\n",
              "      box-shadow: 0px 1px 3px 1px rgba(0, 0, 0, 0.15);\n",
              "      filter: drop-shadow(0px 1px 2px rgba(0, 0, 0, 0.3));\n",
              "      fill: #FFFFFF;\n",
              "    }\n",
              "  </style>\n",
              "\n",
              "      <script>\n",
              "        const buttonEl =\n",
              "          document.querySelector('#df-1f7ad2ab-c7c8-4321-99cf-0fc6946d3969 button.colab-df-convert');\n",
              "        buttonEl.style.display =\n",
              "          google.colab.kernel.accessAllowed ? 'block' : 'none';\n",
              "\n",
              "        async function convertToInteractive(key) {\n",
              "          const element = document.querySelector('#df-1f7ad2ab-c7c8-4321-99cf-0fc6946d3969');\n",
              "          const dataTable =\n",
              "            await google.colab.kernel.invokeFunction('convertToInteractive',\n",
              "                                                     [key], {});\n",
              "          if (!dataTable) return;\n",
              "\n",
              "          const docLinkHtml = 'Like what you see? Visit the ' +\n",
              "            '<a target=\"_blank\" href=https://colab.research.google.com/notebooks/data_table.ipynb>data table notebook</a>'\n",
              "            + ' to learn more about interactive tables.';\n",
              "          element.innerHTML = '';\n",
              "          dataTable['output_type'] = 'display_data';\n",
              "          await google.colab.output.renderOutput(dataTable, element);\n",
              "          const docLink = document.createElement('div');\n",
              "          docLink.innerHTML = docLinkHtml;\n",
              "          element.appendChild(docLink);\n",
              "        }\n",
              "      </script>\n",
              "    </div>\n",
              "  </div>\n",
              "  "
            ]
          },
          "metadata": {},
          "execution_count": 7
        }
      ]
    },
    {
      "cell_type": "code",
      "source": [
        "data1['Sentiment'].values"
      ],
      "metadata": {
        "colab": {
          "base_uri": "https://localhost:8080/"
        },
        "id": "88CL0w__6YnW",
        "outputId": "96642810-cb8c-42a3-d648-4c833a91b4d2"
      },
      "execution_count": null,
      "outputs": [
        {
          "output_type": "execute_result",
          "data": {
            "text/plain": [
              "array(['positive', 'positive', 'positive', ..., 'positive', 'positive',\n",
              "       'neutral'], dtype=object)"
            ]
          },
          "metadata": {},
          "execution_count": 70
        }
      ]
    },
    {
      "cell_type": "code",
      "source": [
        "pos = data1.loc[data1['Sentiment'] == 'positive', 'Reviews']\n",
        "pos = pos.reset_index()\n",
        "pos.drop([\"index\"], axis=1)"
      ],
      "metadata": {
        "colab": {
          "base_uri": "https://localhost:8080/",
          "height": 423
        },
        "id": "au_qDi4y71ey",
        "outputId": "1a6c3186-105d-4fc5-f96d-820deee9bcef"
      },
      "execution_count": null,
      "outputs": [
        {
          "output_type": "execute_result",
          "data": {
            "text/plain": [
              "                                                  Reviews\n",
              "0       super great cooler excellent air flow and for ...\n",
              "1           awesome best budget 2 fit cooler nice cooling\n",
              "2       fair the quality is good but the power of air ...\n",
              "3       awesome the cooler is really fantastic and pro...\n",
              "4                    highly recommended very good product\n",
              "...                                                   ...\n",
              "166574             classy product beautiful set very nice\n",
              "166575                              must buy good product\n",
              "166576                                         super nice\n",
              "166577                   nice very nice and fast delivery\n",
              "166578                           just wow awesome product\n",
              "\n",
              "[166579 rows x 1 columns]"
            ],
            "text/html": [
              "\n",
              "  <div id=\"df-098aef22-b83f-43e6-95cf-53fd270c29b1\">\n",
              "    <div class=\"colab-df-container\">\n",
              "      <div>\n",
              "<style scoped>\n",
              "    .dataframe tbody tr th:only-of-type {\n",
              "        vertical-align: middle;\n",
              "    }\n",
              "\n",
              "    .dataframe tbody tr th {\n",
              "        vertical-align: top;\n",
              "    }\n",
              "\n",
              "    .dataframe thead th {\n",
              "        text-align: right;\n",
              "    }\n",
              "</style>\n",
              "<table border=\"1\" class=\"dataframe\">\n",
              "  <thead>\n",
              "    <tr style=\"text-align: right;\">\n",
              "      <th></th>\n",
              "      <th>Reviews</th>\n",
              "    </tr>\n",
              "  </thead>\n",
              "  <tbody>\n",
              "    <tr>\n",
              "      <th>0</th>\n",
              "      <td>super great cooler excellent air flow and for ...</td>\n",
              "    </tr>\n",
              "    <tr>\n",
              "      <th>1</th>\n",
              "      <td>awesome best budget 2 fit cooler nice cooling</td>\n",
              "    </tr>\n",
              "    <tr>\n",
              "      <th>2</th>\n",
              "      <td>fair the quality is good but the power of air ...</td>\n",
              "    </tr>\n",
              "    <tr>\n",
              "      <th>3</th>\n",
              "      <td>awesome the cooler is really fantastic and pro...</td>\n",
              "    </tr>\n",
              "    <tr>\n",
              "      <th>4</th>\n",
              "      <td>highly recommended very good product</td>\n",
              "    </tr>\n",
              "    <tr>\n",
              "      <th>...</th>\n",
              "      <td>...</td>\n",
              "    </tr>\n",
              "    <tr>\n",
              "      <th>166574</th>\n",
              "      <td>classy product beautiful set very nice</td>\n",
              "    </tr>\n",
              "    <tr>\n",
              "      <th>166575</th>\n",
              "      <td>must buy good product</td>\n",
              "    </tr>\n",
              "    <tr>\n",
              "      <th>166576</th>\n",
              "      <td>super nice</td>\n",
              "    </tr>\n",
              "    <tr>\n",
              "      <th>166577</th>\n",
              "      <td>nice very nice and fast delivery</td>\n",
              "    </tr>\n",
              "    <tr>\n",
              "      <th>166578</th>\n",
              "      <td>just wow awesome product</td>\n",
              "    </tr>\n",
              "  </tbody>\n",
              "</table>\n",
              "<p>166579 rows × 1 columns</p>\n",
              "</div>\n",
              "      <button class=\"colab-df-convert\" onclick=\"convertToInteractive('df-098aef22-b83f-43e6-95cf-53fd270c29b1')\"\n",
              "              title=\"Convert this dataframe to an interactive table.\"\n",
              "              style=\"display:none;\">\n",
              "        \n",
              "  <svg xmlns=\"http://www.w3.org/2000/svg\" height=\"24px\"viewBox=\"0 0 24 24\"\n",
              "       width=\"24px\">\n",
              "    <path d=\"M0 0h24v24H0V0z\" fill=\"none\"/>\n",
              "    <path d=\"M18.56 5.44l.94 2.06.94-2.06 2.06-.94-2.06-.94-.94-2.06-.94 2.06-2.06.94zm-11 1L8.5 8.5l.94-2.06 2.06-.94-2.06-.94L8.5 2.5l-.94 2.06-2.06.94zm10 10l.94 2.06.94-2.06 2.06-.94-2.06-.94-.94-2.06-.94 2.06-2.06.94z\"/><path d=\"M17.41 7.96l-1.37-1.37c-.4-.4-.92-.59-1.43-.59-.52 0-1.04.2-1.43.59L10.3 9.45l-7.72 7.72c-.78.78-.78 2.05 0 2.83L4 21.41c.39.39.9.59 1.41.59.51 0 1.02-.2 1.41-.59l7.78-7.78 2.81-2.81c.8-.78.8-2.07 0-2.86zM5.41 20L4 18.59l7.72-7.72 1.47 1.35L5.41 20z\"/>\n",
              "  </svg>\n",
              "      </button>\n",
              "      \n",
              "  <style>\n",
              "    .colab-df-container {\n",
              "      display:flex;\n",
              "      flex-wrap:wrap;\n",
              "      gap: 12px;\n",
              "    }\n",
              "\n",
              "    .colab-df-convert {\n",
              "      background-color: #E8F0FE;\n",
              "      border: none;\n",
              "      border-radius: 50%;\n",
              "      cursor: pointer;\n",
              "      display: none;\n",
              "      fill: #1967D2;\n",
              "      height: 32px;\n",
              "      padding: 0 0 0 0;\n",
              "      width: 32px;\n",
              "    }\n",
              "\n",
              "    .colab-df-convert:hover {\n",
              "      background-color: #E2EBFA;\n",
              "      box-shadow: 0px 1px 2px rgba(60, 64, 67, 0.3), 0px 1px 3px 1px rgba(60, 64, 67, 0.15);\n",
              "      fill: #174EA6;\n",
              "    }\n",
              "\n",
              "    [theme=dark] .colab-df-convert {\n",
              "      background-color: #3B4455;\n",
              "      fill: #D2E3FC;\n",
              "    }\n",
              "\n",
              "    [theme=dark] .colab-df-convert:hover {\n",
              "      background-color: #434B5C;\n",
              "      box-shadow: 0px 1px 3px 1px rgba(0, 0, 0, 0.15);\n",
              "      filter: drop-shadow(0px 1px 2px rgba(0, 0, 0, 0.3));\n",
              "      fill: #FFFFFF;\n",
              "    }\n",
              "  </style>\n",
              "\n",
              "      <script>\n",
              "        const buttonEl =\n",
              "          document.querySelector('#df-098aef22-b83f-43e6-95cf-53fd270c29b1 button.colab-df-convert');\n",
              "        buttonEl.style.display =\n",
              "          google.colab.kernel.accessAllowed ? 'block' : 'none';\n",
              "\n",
              "        async function convertToInteractive(key) {\n",
              "          const element = document.querySelector('#df-098aef22-b83f-43e6-95cf-53fd270c29b1');\n",
              "          const dataTable =\n",
              "            await google.colab.kernel.invokeFunction('convertToInteractive',\n",
              "                                                     [key], {});\n",
              "          if (!dataTable) return;\n",
              "\n",
              "          const docLinkHtml = 'Like what you see? Visit the ' +\n",
              "            '<a target=\"_blank\" href=https://colab.research.google.com/notebooks/data_table.ipynb>data table notebook</a>'\n",
              "            + ' to learn more about interactive tables.';\n",
              "          element.innerHTML = '';\n",
              "          dataTable['output_type'] = 'display_data';\n",
              "          await google.colab.output.renderOutput(dataTable, element);\n",
              "          const docLink = document.createElement('div');\n",
              "          docLink.innerHTML = docLinkHtml;\n",
              "          element.appendChild(docLink);\n",
              "        }\n",
              "      </script>\n",
              "    </div>\n",
              "  </div>\n",
              "  "
            ]
          },
          "metadata": {},
          "execution_count": 95
        }
      ]
    },
    {
      "cell_type": "code",
      "source": [
        "neg = data1.loc[data1['Sentiment'] == 'negative', 'Reviews']\n",
        "neg = neg.reset_index()\n",
        "neg.drop([\"index\"], axis=1)"
      ],
      "metadata": {
        "colab": {
          "base_uri": "https://localhost:8080/",
          "height": 423
        },
        "id": "85fIvP9W-iRq",
        "outputId": "1092264c-81a9-44f7-d1e9-08d5ba563a4f"
      },
      "execution_count": null,
      "outputs": [
        {
          "output_type": "execute_result",
          "data": {
            "text/plain": [
              "                                                 Reviews\n",
              "0      useless product very bad product its a only a fan\n",
              "1                         unsatisfactory very bad cooler\n",
              "2                  expected a better product bad quality\n",
              "3      waste of money small wire and moter capacity i...\n",
              "4      nice received dalay 10 days cooler is ok when ...\n",
              "...                                                  ...\n",
              "28226  just okay i expected that this dinner set migh...\n",
              "28227                          just wow plates are small\n",
              "28228                    fair dinner plates is too small\n",
              "28229                                    fair small size\n",
              "28230                     just okay bowls are small size\n",
              "\n",
              "[28231 rows x 1 columns]"
            ],
            "text/html": [
              "\n",
              "  <div id=\"df-6254f2b2-3c94-401a-8b12-f44d66927999\">\n",
              "    <div class=\"colab-df-container\">\n",
              "      <div>\n",
              "<style scoped>\n",
              "    .dataframe tbody tr th:only-of-type {\n",
              "        vertical-align: middle;\n",
              "    }\n",
              "\n",
              "    .dataframe tbody tr th {\n",
              "        vertical-align: top;\n",
              "    }\n",
              "\n",
              "    .dataframe thead th {\n",
              "        text-align: right;\n",
              "    }\n",
              "</style>\n",
              "<table border=\"1\" class=\"dataframe\">\n",
              "  <thead>\n",
              "    <tr style=\"text-align: right;\">\n",
              "      <th></th>\n",
              "      <th>Reviews</th>\n",
              "    </tr>\n",
              "  </thead>\n",
              "  <tbody>\n",
              "    <tr>\n",
              "      <th>0</th>\n",
              "      <td>useless product very bad product its a only a fan</td>\n",
              "    </tr>\n",
              "    <tr>\n",
              "      <th>1</th>\n",
              "      <td>unsatisfactory very bad cooler</td>\n",
              "    </tr>\n",
              "    <tr>\n",
              "      <th>2</th>\n",
              "      <td>expected a better product bad quality</td>\n",
              "    </tr>\n",
              "    <tr>\n",
              "      <th>3</th>\n",
              "      <td>waste of money small wire and moter capacity i...</td>\n",
              "    </tr>\n",
              "    <tr>\n",
              "      <th>4</th>\n",
              "      <td>nice received dalay 10 days cooler is ok when ...</td>\n",
              "    </tr>\n",
              "    <tr>\n",
              "      <th>...</th>\n",
              "      <td>...</td>\n",
              "    </tr>\n",
              "    <tr>\n",
              "      <th>28226</th>\n",
              "      <td>just okay i expected that this dinner set migh...</td>\n",
              "    </tr>\n",
              "    <tr>\n",
              "      <th>28227</th>\n",
              "      <td>just wow plates are small</td>\n",
              "    </tr>\n",
              "    <tr>\n",
              "      <th>28228</th>\n",
              "      <td>fair dinner plates is too small</td>\n",
              "    </tr>\n",
              "    <tr>\n",
              "      <th>28229</th>\n",
              "      <td>fair small size</td>\n",
              "    </tr>\n",
              "    <tr>\n",
              "      <th>28230</th>\n",
              "      <td>just okay bowls are small size</td>\n",
              "    </tr>\n",
              "  </tbody>\n",
              "</table>\n",
              "<p>28231 rows × 1 columns</p>\n",
              "</div>\n",
              "      <button class=\"colab-df-convert\" onclick=\"convertToInteractive('df-6254f2b2-3c94-401a-8b12-f44d66927999')\"\n",
              "              title=\"Convert this dataframe to an interactive table.\"\n",
              "              style=\"display:none;\">\n",
              "        \n",
              "  <svg xmlns=\"http://www.w3.org/2000/svg\" height=\"24px\"viewBox=\"0 0 24 24\"\n",
              "       width=\"24px\">\n",
              "    <path d=\"M0 0h24v24H0V0z\" fill=\"none\"/>\n",
              "    <path d=\"M18.56 5.44l.94 2.06.94-2.06 2.06-.94-2.06-.94-.94-2.06-.94 2.06-2.06.94zm-11 1L8.5 8.5l.94-2.06 2.06-.94-2.06-.94L8.5 2.5l-.94 2.06-2.06.94zm10 10l.94 2.06.94-2.06 2.06-.94-2.06-.94-.94-2.06-.94 2.06-2.06.94z\"/><path d=\"M17.41 7.96l-1.37-1.37c-.4-.4-.92-.59-1.43-.59-.52 0-1.04.2-1.43.59L10.3 9.45l-7.72 7.72c-.78.78-.78 2.05 0 2.83L4 21.41c.39.39.9.59 1.41.59.51 0 1.02-.2 1.41-.59l7.78-7.78 2.81-2.81c.8-.78.8-2.07 0-2.86zM5.41 20L4 18.59l7.72-7.72 1.47 1.35L5.41 20z\"/>\n",
              "  </svg>\n",
              "      </button>\n",
              "      \n",
              "  <style>\n",
              "    .colab-df-container {\n",
              "      display:flex;\n",
              "      flex-wrap:wrap;\n",
              "      gap: 12px;\n",
              "    }\n",
              "\n",
              "    .colab-df-convert {\n",
              "      background-color: #E8F0FE;\n",
              "      border: none;\n",
              "      border-radius: 50%;\n",
              "      cursor: pointer;\n",
              "      display: none;\n",
              "      fill: #1967D2;\n",
              "      height: 32px;\n",
              "      padding: 0 0 0 0;\n",
              "      width: 32px;\n",
              "    }\n",
              "\n",
              "    .colab-df-convert:hover {\n",
              "      background-color: #E2EBFA;\n",
              "      box-shadow: 0px 1px 2px rgba(60, 64, 67, 0.3), 0px 1px 3px 1px rgba(60, 64, 67, 0.15);\n",
              "      fill: #174EA6;\n",
              "    }\n",
              "\n",
              "    [theme=dark] .colab-df-convert {\n",
              "      background-color: #3B4455;\n",
              "      fill: #D2E3FC;\n",
              "    }\n",
              "\n",
              "    [theme=dark] .colab-df-convert:hover {\n",
              "      background-color: #434B5C;\n",
              "      box-shadow: 0px 1px 3px 1px rgba(0, 0, 0, 0.15);\n",
              "      filter: drop-shadow(0px 1px 2px rgba(0, 0, 0, 0.3));\n",
              "      fill: #FFFFFF;\n",
              "    }\n",
              "  </style>\n",
              "\n",
              "      <script>\n",
              "        const buttonEl =\n",
              "          document.querySelector('#df-6254f2b2-3c94-401a-8b12-f44d66927999 button.colab-df-convert');\n",
              "        buttonEl.style.display =\n",
              "          google.colab.kernel.accessAllowed ? 'block' : 'none';\n",
              "\n",
              "        async function convertToInteractive(key) {\n",
              "          const element = document.querySelector('#df-6254f2b2-3c94-401a-8b12-f44d66927999');\n",
              "          const dataTable =\n",
              "            await google.colab.kernel.invokeFunction('convertToInteractive',\n",
              "                                                     [key], {});\n",
              "          if (!dataTable) return;\n",
              "\n",
              "          const docLinkHtml = 'Like what you see? Visit the ' +\n",
              "            '<a target=\"_blank\" href=https://colab.research.google.com/notebooks/data_table.ipynb>data table notebook</a>'\n",
              "            + ' to learn more about interactive tables.';\n",
              "          element.innerHTML = '';\n",
              "          dataTable['output_type'] = 'display_data';\n",
              "          await google.colab.output.renderOutput(dataTable, element);\n",
              "          const docLink = document.createElement('div');\n",
              "          docLink.innerHTML = docLinkHtml;\n",
              "          element.appendChild(docLink);\n",
              "        }\n",
              "      </script>\n",
              "    </div>\n",
              "  </div>\n",
              "  "
            ]
          },
          "metadata": {},
          "execution_count": 93
        }
      ]
    },
    {
      "cell_type": "code",
      "source": [
        "neutral = data1.loc[data1['Sentiment'] == 'neutral', 'Reviews']\n",
        "neutral = neutral.reset_index()\n",
        "neutral.drop([\"index\"], axis=1)"
      ],
      "metadata": {
        "colab": {
          "base_uri": "https://localhost:8080/",
          "height": 423
        },
        "id": "EtDSQ8L4-tZU",
        "outputId": "b694a7d9-e821-4098-bfe9-4289df2a9752"
      },
      "execution_count": null,
      "outputs": [
        {
          "output_type": "execute_result",
          "data": {
            "text/plain": [
              "                                                 Reviews\n",
              "0                                     fair ok ok product\n",
              "1               worst experience ever average production\n",
              "2                           just okay speed is very slow\n",
              "3      decent product built quality is not up to the ...\n",
              "4        fair cooling very late n water will come slowly\n",
              "...                                                  ...\n",
              "10234                          good choice pure kaaaaj h\n",
              "10235                           pretty good honey finish\n",
              "10236                                 nice quality is ok\n",
              "10237                             could be way better ok\n",
              "10238  valueformoney very good but mixing bowl not in...\n",
              "\n",
              "[10239 rows x 1 columns]"
            ],
            "text/html": [
              "\n",
              "  <div id=\"df-801f3aef-6925-448d-b7ff-4f8ac85ea9f1\">\n",
              "    <div class=\"colab-df-container\">\n",
              "      <div>\n",
              "<style scoped>\n",
              "    .dataframe tbody tr th:only-of-type {\n",
              "        vertical-align: middle;\n",
              "    }\n",
              "\n",
              "    .dataframe tbody tr th {\n",
              "        vertical-align: top;\n",
              "    }\n",
              "\n",
              "    .dataframe thead th {\n",
              "        text-align: right;\n",
              "    }\n",
              "</style>\n",
              "<table border=\"1\" class=\"dataframe\">\n",
              "  <thead>\n",
              "    <tr style=\"text-align: right;\">\n",
              "      <th></th>\n",
              "      <th>Reviews</th>\n",
              "    </tr>\n",
              "  </thead>\n",
              "  <tbody>\n",
              "    <tr>\n",
              "      <th>0</th>\n",
              "      <td>fair ok ok product</td>\n",
              "    </tr>\n",
              "    <tr>\n",
              "      <th>1</th>\n",
              "      <td>worst experience ever average production</td>\n",
              "    </tr>\n",
              "    <tr>\n",
              "      <th>2</th>\n",
              "      <td>just okay speed is very slow</td>\n",
              "    </tr>\n",
              "    <tr>\n",
              "      <th>3</th>\n",
              "      <td>decent product built quality is not up to the ...</td>\n",
              "    </tr>\n",
              "    <tr>\n",
              "      <th>4</th>\n",
              "      <td>fair cooling very late n water will come slowly</td>\n",
              "    </tr>\n",
              "    <tr>\n",
              "      <th>...</th>\n",
              "      <td>...</td>\n",
              "    </tr>\n",
              "    <tr>\n",
              "      <th>10234</th>\n",
              "      <td>good choice pure kaaaaj h</td>\n",
              "    </tr>\n",
              "    <tr>\n",
              "      <th>10235</th>\n",
              "      <td>pretty good honey finish</td>\n",
              "    </tr>\n",
              "    <tr>\n",
              "      <th>10236</th>\n",
              "      <td>nice quality is ok</td>\n",
              "    </tr>\n",
              "    <tr>\n",
              "      <th>10237</th>\n",
              "      <td>could be way better ok</td>\n",
              "    </tr>\n",
              "    <tr>\n",
              "      <th>10238</th>\n",
              "      <td>valueformoney very good but mixing bowl not in...</td>\n",
              "    </tr>\n",
              "  </tbody>\n",
              "</table>\n",
              "<p>10239 rows × 1 columns</p>\n",
              "</div>\n",
              "      <button class=\"colab-df-convert\" onclick=\"convertToInteractive('df-801f3aef-6925-448d-b7ff-4f8ac85ea9f1')\"\n",
              "              title=\"Convert this dataframe to an interactive table.\"\n",
              "              style=\"display:none;\">\n",
              "        \n",
              "  <svg xmlns=\"http://www.w3.org/2000/svg\" height=\"24px\"viewBox=\"0 0 24 24\"\n",
              "       width=\"24px\">\n",
              "    <path d=\"M0 0h24v24H0V0z\" fill=\"none\"/>\n",
              "    <path d=\"M18.56 5.44l.94 2.06.94-2.06 2.06-.94-2.06-.94-.94-2.06-.94 2.06-2.06.94zm-11 1L8.5 8.5l.94-2.06 2.06-.94-2.06-.94L8.5 2.5l-.94 2.06-2.06.94zm10 10l.94 2.06.94-2.06 2.06-.94-2.06-.94-.94-2.06-.94 2.06-2.06.94z\"/><path d=\"M17.41 7.96l-1.37-1.37c-.4-.4-.92-.59-1.43-.59-.52 0-1.04.2-1.43.59L10.3 9.45l-7.72 7.72c-.78.78-.78 2.05 0 2.83L4 21.41c.39.39.9.59 1.41.59.51 0 1.02-.2 1.41-.59l7.78-7.78 2.81-2.81c.8-.78.8-2.07 0-2.86zM5.41 20L4 18.59l7.72-7.72 1.47 1.35L5.41 20z\"/>\n",
              "  </svg>\n",
              "      </button>\n",
              "      \n",
              "  <style>\n",
              "    .colab-df-container {\n",
              "      display:flex;\n",
              "      flex-wrap:wrap;\n",
              "      gap: 12px;\n",
              "    }\n",
              "\n",
              "    .colab-df-convert {\n",
              "      background-color: #E8F0FE;\n",
              "      border: none;\n",
              "      border-radius: 50%;\n",
              "      cursor: pointer;\n",
              "      display: none;\n",
              "      fill: #1967D2;\n",
              "      height: 32px;\n",
              "      padding: 0 0 0 0;\n",
              "      width: 32px;\n",
              "    }\n",
              "\n",
              "    .colab-df-convert:hover {\n",
              "      background-color: #E2EBFA;\n",
              "      box-shadow: 0px 1px 2px rgba(60, 64, 67, 0.3), 0px 1px 3px 1px rgba(60, 64, 67, 0.15);\n",
              "      fill: #174EA6;\n",
              "    }\n",
              "\n",
              "    [theme=dark] .colab-df-convert {\n",
              "      background-color: #3B4455;\n",
              "      fill: #D2E3FC;\n",
              "    }\n",
              "\n",
              "    [theme=dark] .colab-df-convert:hover {\n",
              "      background-color: #434B5C;\n",
              "      box-shadow: 0px 1px 3px 1px rgba(0, 0, 0, 0.15);\n",
              "      filter: drop-shadow(0px 1px 2px rgba(0, 0, 0, 0.3));\n",
              "      fill: #FFFFFF;\n",
              "    }\n",
              "  </style>\n",
              "\n",
              "      <script>\n",
              "        const buttonEl =\n",
              "          document.querySelector('#df-801f3aef-6925-448d-b7ff-4f8ac85ea9f1 button.colab-df-convert');\n",
              "        buttonEl.style.display =\n",
              "          google.colab.kernel.accessAllowed ? 'block' : 'none';\n",
              "\n",
              "        async function convertToInteractive(key) {\n",
              "          const element = document.querySelector('#df-801f3aef-6925-448d-b7ff-4f8ac85ea9f1');\n",
              "          const dataTable =\n",
              "            await google.colab.kernel.invokeFunction('convertToInteractive',\n",
              "                                                     [key], {});\n",
              "          if (!dataTable) return;\n",
              "\n",
              "          const docLinkHtml = 'Like what you see? Visit the ' +\n",
              "            '<a target=\"_blank\" href=https://colab.research.google.com/notebooks/data_table.ipynb>data table notebook</a>'\n",
              "            + ' to learn more about interactive tables.';\n",
              "          element.innerHTML = '';\n",
              "          dataTable['output_type'] = 'display_data';\n",
              "          await google.colab.output.renderOutput(dataTable, element);\n",
              "          const docLink = document.createElement('div');\n",
              "          docLink.innerHTML = docLinkHtml;\n",
              "          element.appendChild(docLink);\n",
              "        }\n",
              "      </script>\n",
              "    </div>\n",
              "  </div>\n",
              "  "
            ]
          },
          "metadata": {},
          "execution_count": 94
        }
      ]
    },
    {
      "cell_type": "code",
      "source": [
        "data1.shape"
      ],
      "metadata": {
        "colab": {
          "base_uri": "https://localhost:8080/"
        },
        "id": "q0HpfblX2Uqc",
        "outputId": "0ab96743-002a-4b2a-ed39-aef13316f957"
      },
      "execution_count": null,
      "outputs": [
        {
          "output_type": "execute_result",
          "data": {
            "text/plain": [
              "(205052, 5)"
            ]
          },
          "metadata": {},
          "execution_count": 8
        }
      ]
    },
    {
      "cell_type": "code",
      "source": [
        "data1.isna().sum()"
      ],
      "metadata": {
        "colab": {
          "base_uri": "https://localhost:8080/"
        },
        "id": "n9x1eNZo-XUo",
        "outputId": "a13e54fb-aba4-4d4e-a78f-c4062fd04761"
      },
      "execution_count": null,
      "outputs": [
        {
          "output_type": "execute_result",
          "data": {
            "text/plain": [
              "product_name     0\n",
              "product_price    0\n",
              "Rate             0\n",
              "Sentiment        0\n",
              "Reviews          0\n",
              "dtype: int64"
            ]
          },
          "metadata": {},
          "execution_count": 129
        }
      ]
    },
    {
      "cell_type": "code",
      "source": [
        "data1 = data1.dropna()"
      ],
      "metadata": {
        "id": "YEJ-yr-F-L9N"
      },
      "execution_count": null,
      "outputs": []
    },
    {
      "cell_type": "code",
      "source": [
        "data1.info()"
      ],
      "metadata": {
        "colab": {
          "base_uri": "https://localhost:8080/"
        },
        "id": "_KEWIRHY2USS",
        "outputId": "d57bb211-7644-4be0-97e9-ce55f5314905"
      },
      "execution_count": null,
      "outputs": [
        {
          "output_type": "stream",
          "name": "stdout",
          "text": [
            "<class 'pandas.core.frame.DataFrame'>\n",
            "RangeIndex: 205052 entries, 0 to 205051\n",
            "Data columns (total 5 columns):\n",
            " #   Column         Non-Null Count   Dtype \n",
            "---  ------         --------------   ----- \n",
            " 0   product_name   205052 non-null  object\n",
            " 1   product_price  205052 non-null  object\n",
            " 2   Rate           205052 non-null  object\n",
            " 3   Sentiment      205052 non-null  object\n",
            " 4   Reviews        205052 non-null  object\n",
            "dtypes: object(5)\n",
            "memory usage: 7.8+ MB\n"
          ]
        }
      ]
    },
    {
      "cell_type": "code",
      "source": [
        "rate = data1['Rate'].value_counts()\n",
        "rate\n"
      ],
      "metadata": {
        "colab": {
          "base_uri": "https://localhost:8080/"
        },
        "id": "lmBEUPZo-gaZ",
        "outputId": "54dcdb6a-10f7-4f26-810b-dfa82f828a26"
      },
      "execution_count": null,
      "outputs": [
        {
          "output_type": "execute_result",
          "data": {
            "text/plain": [
              "5                                                                    118765\n",
              "4                                                                     41894\n",
              "1                                                                     21300\n",
              "3                                                                     16599\n",
              "2                                                                      6491\n",
              "Pigeon Favourite Electric Kettle??????(1.5 L, Silver, Black)              1\n",
              "Bajaj DX 2 L/W Dry Iron                                                   1\n",
              "Nova Plus Amaze NI 10 1100 W Dry Iron?ÃÂ¿?ÃÂ¿(Grey & Turquoise)         1\n",
              "Name: Rate, dtype: int64"
            ]
          },
          "metadata": {},
          "execution_count": 13
        }
      ]
    },
    {
      "cell_type": "code",
      "source": [
        "data1 = data1[(data1.product_price != 'Bajaj DX 2 LW Dry Iron') & (data1.product_price != 'pigeon favourite electric kettle15 l silver black') & (data1.product_price != 'Nova Plus Amaze NI 10 1100 W Dry IronGrey  Turquoise')]"
      ],
      "metadata": {
        "id": "vXppwoZuNbRz"
      },
      "execution_count": null,
      "outputs": []
    },
    {
      "cell_type": "code",
      "source": [
        "data1 = data1[(data1.Rate !='Pigeon Favourite Electric Kettle??????(1.5 L, Silver, Black)') & (data1.Rate != \"Bajaj DX 2 L/W Dry Iron\") & (data1.Rate !='Nova Plus Amaze NI 10 1100 W Dry Iron?ÃÂ¿?ÃÂ¿(Grey & Turquoise)')]"
      ],
      "metadata": {
        "id": "GnCFBVtk-gVl"
      },
      "execution_count": null,
      "outputs": []
    },
    {
      "cell_type": "code",
      "source": [
        "pd.DataFrame(data1['product_price'].astype(int)).hist(bins=5)"
      ],
      "metadata": {
        "colab": {
          "base_uri": "https://localhost:8080/",
          "height": 470
        },
        "id": "rceF2xm_Z9Ze",
        "outputId": "50186282-62f6-4289-fd0f-c26eaaabbbc8"
      },
      "execution_count": null,
      "outputs": [
        {
          "output_type": "execute_result",
          "data": {
            "text/plain": [
              "array([[<Axes: title={'center': 'product_price'}>]], dtype=object)"
            ]
          },
          "metadata": {},
          "execution_count": 16
        },
        {
          "output_type": "display_data",
          "data": {
            "text/plain": [
              "<Figure size 640x480 with 1 Axes>"
            ],
            "image/png": "[encoded data removed]"
          },
          "metadata": {}
        }
      ]
    },
    {
      "cell_type": "code",
      "source": [
        "sns.histplot(data1['Rate'])"
      ],
      "metadata": {
        "colab": {
          "base_uri": "https://localhost:8080/",
          "height": 467
        },
        "id": "8kDVQJMyG1GE",
        "outputId": "3e3b3413-de15-4566-8033-23e78cb83445"
      },
      "execution_count": null,
      "outputs": [
        {
          "output_type": "execute_result",
          "data": {
            "text/plain": [
              "<Axes: xlabel='Rate', ylabel='Count'>"
            ]
          },
          "metadata": {},
          "execution_count": 17
        },
        {
          "output_type": "display_data",
          "data": {
            "text/plain": [
              "<Figure size 640x480 with 1 Axes>"
            ],
            "image/png": "[encoded data removed]"
          },
          "metadata": {}
        }
      ]
    },
    {
      "cell_type": "code",
      "source": [
        "sns.set(rc={'figure.figsize':(5,6.27)})\n",
        "\n",
        "sns.histplot(data1['Sentiment'])\n"
      ],
      "metadata": {
        "colab": {
          "base_uri": "https://localhost:8080/",
          "height": 589
        },
        "id": "DSl7Ztgw-4O1",
        "outputId": "80c0fb12-d54c-47fd-f191-750eec45a188"
      },
      "execution_count": null,
      "outputs": [
        {
          "output_type": "execute_result",
          "data": {
            "text/plain": [
              "<Axes: xlabel='Sentiment', ylabel='Count'>"
            ]
          },
          "metadata": {},
          "execution_count": 18
        },
        {
          "output_type": "display_data",
          "data": {
            "text/plain": [
              "<Figure size 500x627 with 1 Axes>"
            ],
            "image/png": "[encoded data removed]"
          },
          "metadata": {}
        }
      ]
    },
    {
      "cell_type": "code",
      "source": [
        "from sklearn.feature_extraction.text import CountVectorizer\n",
        "from nltk.tokenize import RegexpTokenizer\n",
        "from sklearn.model_selection import train_test_split\n",
        "import string\n"
      ],
      "metadata": {
        "id": "-AFlBvYzFZby"
      },
      "execution_count": null,
      "outputs": []
    },
    {
      "cell_type": "code",
      "source": [
        "df_class = data1[(data1.Sentiment=='positive') | (data1.Sentiment=='negative')]\n",
        "token = RegexpTokenizer(r'[a-zA-Z0-9]+')\n",
        "cv = CountVectorizer(stop_words='english',ngram_range = (1,1),tokenizer = token.tokenize)\n",
        "X = cv.fit_transform(data1['Reviews'])\n",
        "X_pos = cv.fit_transform(pos['Reviews'])\n",
        "X_neg = cv.fit_transform(neg['Reviews'])\n",
        "X_neu = cv.fit_transform(neutral['Reviews'])\n",
        "data1['Reviews']"
      ],
      "metadata": {
        "id": "rWieRvBpRK6Z",
        "colab": {
          "base_uri": "https://localhost:8080/"
        },
        "outputId": "57d40bd3-6aac-4e23-8a25-95d465c73e7b"
      },
      "execution_count": null,
      "outputs": [
        {
          "output_type": "stream",
          "name": "stderr",
          "text": [
            "/usr/local/lib/python3.10/dist-packages/sklearn/feature_extraction/text.py:528: UserWarning: The parameter 'token_pattern' will not be used since 'tokenizer' is not None'\n",
            "  warnings.warn(\n"
          ]
        },
        {
          "output_type": "execute_result",
          "data": {
            "text/plain": [
              "0         super great cooler excellent air flow and for ...\n",
              "1             awesome best budget 2 fit cooler nice cooling\n",
              "2         fair the quality is good but the power of air ...\n",
              "3         useless product very bad product its a only a fan\n",
              "4                                        fair ok ok product\n",
              "                                ...                        \n",
              "205047                                must buy good product\n",
              "205048                                           super nice\n",
              "205049                     nice very nice and fast delivery\n",
              "205050                             just wow awesome product\n",
              "205051    valueformoney very good but mixing bowl not in...\n",
              "Name: Reviews, Length: 205049, dtype: object"
            ]
          },
          "metadata": {},
          "execution_count": 97
        }
      ]
    },
    {
      "cell_type": "code",
      "source": [
        "X[0]\n",
        "\n"
      ],
      "metadata": {
        "colab": {
          "base_uri": "https://localhost:8080/"
        },
        "id": "PAPieYXujF6r",
        "outputId": "e5ad34d5-4412-4d86-d7a0-fd124025542b"
      },
      "execution_count": null,
      "outputs": [
        {
          "output_type": "execute_result",
          "data": {
            "text/plain": [
              "<1x47335 sparse matrix of type '<class 'numpy.int64'>'\n",
              "\twith 10 stored elements in Compressed Sparse Row format>"
            ]
          },
          "metadata": {},
          "execution_count": 57
        }
      ]
    },
    {
      "cell_type": "code",
      "source": [
        "punctuations = string.punctuation\n",
        "clean_Text = []\n",
        "clean_pos = []\n",
        "clean_neg = []\n",
        "clean_neu = []\n",
        "data1['Reviews'] = data1['Reviews'].str.replace('[{}]'.format(punctuations),'')\n",
        "for i in data1['Reviews']:\n",
        "  i = (i.lower().split())\n",
        "  stops = set(stopwords.words(\"english\"))\n",
        "  i = [w for w in i if not w in stops] \n",
        "  clean_Text.append( \" \".join(i))\n",
        "\n",
        "pos['Reviews'] = pos['Reviews'].str.replace('[{}]'.format(punctuations),'')\n",
        "for i in pos['Reviews']:\n",
        "  i = (i.lower().split())\n",
        "  stops = set(stopwords.words(\"english\"))\n",
        "  i = [w for w in i if not w in stops] \n",
        "  clean_pos.append( \" \".join(i))\n",
        "\n",
        "neg['Reviews'] = neg['Reviews'].str.replace('[{}]'.format(punctuations),'')\n",
        "for i in neg['Reviews']:\n",
        "  i = (i.lower().split())\n",
        "  stops = set(stopwords.words(\"english\"))\n",
        "  i = [w for w in i if not w in stops] \n",
        "  clean_neg.append( \" \".join(i))\n",
        "\n",
        "neutral['Reviews'] = neutral['Reviews'].str.replace('[{}]'.format(punctuations),'')\n",
        "for i in neutral['Reviews']:\n",
        "  i = (i.lower().split())\n",
        "  stops = set(stopwords.words(\"english\"))\n",
        "  i = [w for w in i if not w in stops] \n",
        "  clean_neu.append( \" \".join(i))\n",
        "\n",
        "clean_neu  "
      ],
      "metadata": {
        "colab": {
          "base_uri": "https://localhost:8080/"
        },
        "id": "boG9bEJH25YX",
        "outputId": "bae4f04a-c6dc-475d-d090-258e161314ab"
      },
      "execution_count": null,
      "outputs": [
        {
          "output_type": "stream",
          "name": "stderr",
          "text": [
            "<ipython-input-108-59c4e5aac0a0>:6: FutureWarning: The default value of regex will change from True to False in a future version.\n",
            "  data1['Reviews'] = data1['Reviews'].str.replace('[{}]'.format(punctuations),'')\n",
            "<ipython-input-108-59c4e5aac0a0>:13: FutureWarning: The default value of regex will change from True to False in a future version.\n",
            "  pos['Reviews'] = pos['Reviews'].str.replace('[{}]'.format(punctuations),'')\n",
            "<ipython-input-108-59c4e5aac0a0>:20: FutureWarning: The default value of regex will change from True to False in a future version.\n",
            "  neg['Reviews'] = neg['Reviews'].str.replace('[{}]'.format(punctuations),'')\n",
            "<ipython-input-108-59c4e5aac0a0>:27: FutureWarning: The default value of regex will change from True to False in a future version.\n",
            "  neutral['Reviews'] = neutral['Reviews'].str.replace('[{}]'.format(punctuations),'')\n"
          ]
        },
        {
          "output_type": "execute_result",
          "data": {
            "text/plain": [
              "['fair ok ok product',\n",
              " 'worst experience ever average production',\n",
              " 'okay speed slow',\n",
              " 'decent product built quality mark overall avearge',\n",
              " 'fair cooling late n water come slowly',\n",
              " 'terrible product much big size',\n",
              " 'decent product ok',\n",
              " 'good performance reduced 2 months',\n",
              " 'mindblowing purchase ok',\n",
              " 'wonderful nice cooling nice products body isnt properly fit',\n",
              " 'really nice overall goodbut warranty card 3 month ago',\n",
              " 'really nice cooler jabardast honeycomb pad',\n",
              " 'good ok',\n",
              " 'wonderful size big guuz much bigger expected occupy 2man sitting place',\n",
              " 'bad quality big',\n",
              " 'good ok',\n",
              " 'expected better product suitable 1 man',\n",
              " 'moderate room cooling cooler throughing normal air',\n",
              " 'fair big cooler speed average',\n",
              " 'great product large size',\n",
              " 'good average',\n",
              " 'nice leaves fishy smell sometimes unbearable cooling average',\n",
              " 'fair product shown figure',\n",
              " 'okay okay okay product',\n",
              " 'job average got smell using 2 times filling water',\n",
              " 'could way better light indicater l1 l2 showing product',\n",
              " 'bad quality cooler good auto swing working',\n",
              " 'bad quality heavy noise people cooling within 15 mins even opening window two sides',\n",
              " 'wonderful nice product weighty heavy wheels provided difficult move one place another',\n",
              " 'nice cooler averagefan speed high cause little bit noise youll get use itcooling ok depend weather water tankthe worst thing wheels',\n",
              " 'good quality product seems good drawbacks sprays water high high mode also found bad smell week usage',\n",
              " 'decent product normal dont expect',\n",
              " 'bad quality less one monthmoter automatically burnno replacement gurantee',\n",
              " 'okay product good parts fixed loosely difficult open cooler remove old stock water',\n",
              " 'absolute rubbish till goodrest well see',\n",
              " 'pretty good cooler compact movable look wise greatperformance good excellent extreme heat doesnt cool otherwise also difficult clean tank leading stink',\n",
              " 'terrible product product got opened delivery service goodwant return product',\n",
              " 'moderate air cooler proper cooling metal body cooler',\n",
              " 'slightly disappointed normal fin cooler',\n",
              " 'decent product sound noise much',\n",
              " 'highly recommended little noisy moist desert coolerrest best',\n",
              " 'good quality product ok',\n",
              " 'fair average',\n",
              " 'okay room heated even using cooler',\n",
              " 'job auto water filleup theretoo much sounddifficult cleancross ventiliter required cooling',\n",
              " 'worthless water pump swing working properly',\n",
              " 'worth money everything ok coolis veru low',\n",
              " 'nice product product good noisy cools room low fan speed high reduced 1 rating noisy operation',\n",
              " 'fair type ok ok',\n",
              " 'horrible worth barely works cooler doesnt cool jst smhow better fan',\n",
              " 'fair upto mark',\n",
              " 'expected better product big noisy',\n",
              " 'nice builtin quality good sound high',\n",
              " 'pretty good simpleit cant compete desert cooler ac actually cant manage desert cooler fixing window mean first floor way hang desert cooler window go cant sleep first 15 days due bad smell 15 days compromise good places option ac fix desert coolerso simply waisted money due chamcha reviews anyhowhave purchased',\n",
              " 'good product price cooler goodthe issue swigs move cant stay one position',\n",
              " 'good product okay cleaning honeycomb difficult',\n",
              " 'okay average product cleanliness big trouble air upto mark louvers properly set slide downward automatically',\n",
              " 'okay ok',\n",
              " 'perfect product quite good item smell bad first',\n",
              " 'bad quality finishing goodlot scratches',\n",
              " 'nice product water circulation one side cooler',\n",
              " 'good ok',\n",
              " 'hated ok',\n",
              " 'good throw air upto 20 ft crompton mentioned throw air upto 45 ft dont fall',\n",
              " 'good ok',\n",
              " 'decent product ffggp',\n",
              " 'really nice good product like symphony',\n",
              " 'good choice cooler good seller delivered damaged product leaking inlet',\n",
              " 'pretty good average score',\n",
              " 'fair ok',\n",
              " 'nice product functioning property bad smell spreading running',\n",
              " 'nice product product great big room received little damaged',\n",
              " 'expected better product still attended crompton demo n installation',\n",
              " 'good ok bad',\n",
              " 'good nice big size product performance easy change water cleaning',\n",
              " 'absolute rubbish 2 days purchased headset good kids adultmy ear paining looks stylist build quality also goodbut space fit ear small wearing even 30min ear start paining true honest review bough playing pubg previously using cosmic bye headset cosmic byt good boat experience u wanna buy headset pubg go cosmic byte regarding issue im facing',\n",
              " 'wow best bass best sound quality body quality good overall good product',\n",
              " 'brilliant high rated product price range well sound quality bass super extra per tagline comfortable spectacular design bad side non foldable',\n",
              " 'valueformoney pros 1 wont talk abt bass cz amazing really thumping bass 2 backup good lasts nearly 12hrs 3 design build quality okay great better 4 headset turn automatically 10m disconnecting bluetooth 5 additional plus point wired jack useful battery dies cons 1 biggest con cushions comfortable ears get lot paining 10m listen dont hw feels',\n",
              " 'recommended better speaker looking speaker buy one headphone speaker',\n",
              " 'utterly disappointed sound come outside',\n",
              " 'terrible product sweaty earearache 1hour use',\n",
              " 'good quality product sound quality great buying calling purpose good choice person call may able hear voice properly speak louder thats 4',\n",
              " 'fabulous battery backup 2122hrsound quality goodconnectivity lose problem 3mitre',\n",
              " 'pretty good bad',\n",
              " 'awesome supar',\n",
              " 'awesome awosome product',\n",
              " 'must buy excellent peacenice desgionexcellent bettery capacity',\n",
              " 'terrific purchase assom sound qualitygood product',\n",
              " 'recommended quality',\n",
              " 'moderate 45 month battery lasting 1 hrs full charging',\n",
              " 'fabulous hey baby battery backup',\n",
              " 'terrific purchase mind blowing product',\n",
              " 'useless product average product stoped working 2 months',\n",
              " 'wonderful ok',\n",
              " 'good connecting short range',\n",
              " 'good ok',\n",
              " 'worth every penny goodbut bettery consume fast',\n",
              " 'mindblowing purchase supar',\n",
              " 'poor one month charging switch working',\n",
              " 'good nice working redmi 9active phone',\n",
              " 'bad quality connectivity slow',\n",
              " 'best market paisa wasul products',\n",
              " 'okay happy',\n",
              " 'excellent battery isssue',\n",
              " 'must buy bast prices value money product',\n",
              " 'mindblowing purchase supar',\n",
              " 'utterly disappointed third quality productfor blootooth connecting',\n",
              " 'fair nic',\n",
              " 'job appeared slight decrease product quality',\n",
              " 'nice ok',\n",
              " 'worthless dont buy product call ends voice low top flipkart never support rufunds geniune feedback using working product days music listening headphone great voice output',\n",
              " 'utterly disappointed sound quality good calling good well bass good dont go calling',\n",
              " 'nice product ok',\n",
              " 'mindblowing purchase oneplus',\n",
              " 'good battery backup 30 hours 1215 hours',\n",
              " 'terrific 2ordered',\n",
              " 'useless product connectivity issue',\n",
              " 'moderate backgrounds voice coming much handsfree noise cancellation future worked',\n",
              " 'super must buy',\n",
              " 'worthless dont buy product call ends voice low top flipkart never support rufunds geniune feedback using working product days music listening headphone great voice output',\n",
              " 'nice product ok',\n",
              " 'unsatisfactory ok delivery agent ok',\n",
              " 'waste money standrad earphones',\n",
              " 'wonderful deep bass',\n",
              " 'mindblowing purchase oneplus',\n",
              " 'nice okay',\n",
              " 'terrible product base earphones way heavy looking good balanced sound stay away product base lovers music lover',\n",
              " 'good battery backup 30 hours 1215 hours',\n",
              " 'terrific 2ordered',\n",
              " 'terrible product product good waste moneyreturn policy also working',\n",
              " 'decent product think twiceits ok ok productbut realme buds dart charging day better product thisdont dont fall brand name traprealme better',\n",
              " 'worst experience ever item working one speaker working',\n",
              " 'useless product connectivity issue',\n",
              " 'moderate backgrounds voice coming much handsfree noise cancellation future worked',\n",
              " 'waste money sound quality poor',\n",
              " 'dont waste money 10 days use left side doesnt work',\n",
              " 'awesome sound quality awesomecall quality goodbattery goodnoise cancellation superbbdesign built quality premium',\n",
              " 'great product wonderfull sound effects battery life',\n",
              " 'job automatic disconnecting calling timeafter 10 second connect automatically iam referring purchase',\n",
              " 'absolute rubbish working 15 days',\n",
              " 'job ok',\n",
              " 'useless product cheap',\n",
              " 'meet expectations one speaker working',\n",
              " 'job hi speaker decent sound good battery backupalthough found 2 issues 1 button hard finger whild pains trying speaker2 micro usb cable received wasnt fitting charging use phone charging cable know everyone',\n",
              " 'classy product sound quality design awesomemind blowing',\n",
              " 'best market vocalsbestbassbesttreblebestbuilt qualitybestprice overpricedcharging socket little bit tight',\n",
              " 'fabulous ok',\n",
              " 'terrific purchase mivi',\n",
              " 'classy product close eye buy speaker mivi',\n",
              " 'okay voice low disapointed sound volume battery good range',\n",
              " 'decent product okay bass problam',\n",
              " 'brilliant ok',\n",
              " 'could way better volume button working',\n",
              " 'fabulous superb',\n",
              " 'delightful niccc',\n",
              " 'bad quality sound medium',\n",
              " 'meet expectations bad',\n",
              " 'good overall product average delivery earlier',\n",
              " 'brilliant supper',\n",
              " 'good ok liked',\n",
              " 'average sound bar average sound bar better buy desktoplaptop speakers iball intex dont go reviews says good bass etc honestly speaking markprosdesign build quality good cons bass sound bit higher compared laptop speaker',\n",
              " 'could way better good bestsound quality goodbass poor even boat 650 bass build quality ok expecting loud 16 w speakerfinally mind boat 1000650 better',\n",
              " 'perfect product loud speaker decent bass',\n",
              " 'nice battery backup longer battery life',\n",
              " 'wonderful proper sound quality best feel every song indian engineered manufactured soundbar',\n",
              " 'dont waste money battery full charge 60 minat chala',\n",
              " 'job mony save product ok bad',\n",
              " 'classy product supb',\n",
              " 'nice sound ok',\n",
              " 'wow superve',\n",
              " 'good quality product product fabulousmust buy',\n",
              " 'okay loud like boat jbl others',\n",
              " 'terrific purchase go',\n",
              " 'decent product nice good love time',\n",
              " 'perfect product product good bass quality good',\n",
              " 'brilliant good hitting problems',\n",
              " 'perfect product supar',\n",
              " 'good auto within 5 minutes fm mode mode working proper',\n",
              " 'fair okay',\n",
              " 'nice simple product',\n",
              " 'nice bad',\n",
              " 'good sound quality ok bass volume satification',\n",
              " 'job okay hall',\n",
              " 'could way better battery backup enough',\n",
              " 'fair avarage',\n",
              " 'decent product charging cable working',\n",
              " 'unsatisfactory bad',\n",
              " 'job average',\n",
              " 'good quality product ok',\n",
              " 'good average product',\n",
              " 'okay ok',\n",
              " 'decent product average',\n",
              " 'nice normal productbut ok',\n",
              " 'good choice avrege',\n",
              " 'fair build quality good sound upset means good',\n",
              " 'okay slightly sound breaking',\n",
              " 'job okay',\n",
              " 'perfect product product supernice',\n",
              " 'job thanks flipkart',\n",
              " 'good quality product 5 months use valuable money',\n",
              " 'mindblowing purchase wowwww collection',\n",
              " 'awesome quality better battery life low',\n",
              " 'great product mind blowing performance',\n",
              " 'okay sound pure ok',\n",
              " 'fair ok bad stereo',\n",
              " 'worth money gud product average',\n",
              " 'valueformoney good speaker sound quality awsm long battery also67 hours fm doesnt clear',\n",
              " 'best market avg',\n",
              " 'okay charging cable coming box',\n",
              " 'utterly disappointed dont buy battery working one month used',\n",
              " 'perfect product pros1good build quality2design bass reflex stereo mode3good battery backup approx 8 hr continue4better price pointcons1not heavy bass2 little heavy3poor microphone call function4when switch device volume loud irritating phone call possible adjust volume phone adjust manually side button device',\n",
              " 'fair level discribed',\n",
              " 'okay average',\n",
              " 'useless product product fine problem playing music playing music stops middle song playing bluetooth problem please check',\n",
              " 'good normal',\n",
              " 'fabulous first charge speaker use itsuper sound medium bassvalue money16w',\n",
              " 'okay usefull product zeb',\n",
              " 'good quality product ok',\n",
              " 'nice goodbut ejected charger cover cap also came chargeri fixed back still loose',\n",
              " 'good quality product camera good beginner getting much high quality pics camera lens order canon 50mm 1st vacation satisfied quality check tube regarding comparison 18mm 50mm lens want buy camera kit lens want pics upgrade prime lenswhether 50mm 55250mmthanks',\n",
              " 'brilliant name',\n",
              " 'worth every penny awsome dslr camera',\n",
              " 'delightful hasam guys lets try',\n",
              " 'good quality product budget dslr beginner',\n",
              " 'super supper',\n",
              " 'simply awesome mast quality',\n",
              " 'okay job extra money go 1500d thats better deal pricethanks later',\n",
              " 'excellent good product price bad delivery',\n",
              " 'good average product',\n",
              " 'classy product awsome product',\n",
              " 'recommended bad',\n",
              " 'fair picture quality ok',\n",
              " 'wow canon',\n",
              " 'good heavyy',\n",
              " 'fair product good delivery system bad almost one month taken one product really thats big problem think work delivery system',\n",
              " 'delightful average product',\n",
              " 'fair ok',\n",
              " 'could way better ok ok',\n",
              " 'fair mediam',\n",
              " 'fabulous ok',\n",
              " 'job jus ok',\n",
              " 'best market canon eos 3000d dslr camera heavy products',\n",
              " 'terrific nyc camera',\n",
              " 'terrific purchase quality nice product',\n",
              " 'fabulous hats delivery boy n product',\n",
              " 'okay product good bad delivery service',\n",
              " 'good quality product manufactured taiwan japan',\n",
              " 'classy product thq every thing',\n",
              " 'moderate average product quality performance',\n",
              " 'bad quality bad',\n",
              " 'must buy good beginners warranty problem',\n",
              " 'job 1st timers',\n",
              " 'good average product',\n",
              " 'fair basic dslr',\n",
              " 'terrific ok',\n",
              " 'wonderful upgrade higher lense',\n",
              " 'highly recommended vera level experience',\n",
              " 'wonderful wonder full yaaaaarrrr',\n",
              " 'good ok type beginners basic lens feel dslr',\n",
              " 'really nice basic camera',\n",
              " 'job average',\n",
              " 'great product go',\n",
              " 'terrific ossm',\n",
              " 'good average dont expect much',\n",
              " 'nice average performance',\n",
              " 'worth money nuce',\n",
              " 'perfect product niceeeeee',\n",
              " 'classy product started',\n",
              " 'delightful take picture',\n",
              " 'great product worst delivery service camera well',\n",
              " 'delightful product awesome delivery time good',\n",
              " 'unsatisfactory average',\n",
              " 'pretty good good best',\n",
              " 'highly recommended delivery goodcamera bag good',\n",
              " 'wonderful awsm',\n",
              " 'delightful osm image quality low compared canon 200d',\n",
              " 'absolute rubbish audio input available dslr tried buy somewhere item available',\n",
              " 'wonderful really owsm',\n",
              " 'mindblowing purchase grt camera need 1more lense 55250',\n",
              " 'awesome bought first time seems ultimate camera',\n",
              " 'simply awesome go',\n",
              " 'okay evarage',\n",
              " 'perfect product owsam camra price',\n",
              " 'mindblowing purchase exlent',\n",
              " 'job gud gud',\n",
              " 'pretty good come telephoto lense',\n",
              " 'brilliant bag good camera super',\n",
              " 'poor much bettet',\n",
              " 'simply awesome frist dslr camera',\n",
              " 'useless product sensory button panel totally damagedvery dissapointed',\n",
              " 'hated bed',\n",
              " 'meet expectations oil leaking collecter tank',\n",
              " 'terrible product wrost',\n",
              " 'dont waste money oil leaking since installation even two visit even 6 month oil leakage still persist',\n",
              " 'dont waste money sufficient size suitable single oven',\n",
              " 'utterly disappointed oil leakage outside oil collecter causing spreading wall tiles',\n",
              " 'waste money made china product never think indian',\n",
              " 'recommended sounds heavy',\n",
              " 'hated without touch sincer bakwass 5 time repair 8month',\n",
              " 'worst experience ever noise high',\n",
              " 'pretty good chimni oky',\n",
              " 'waste money whole chimney hindware electric short',\n",
              " 'unsatisfactory chimney work properly',\n",
              " 'super go installation charge 490',\n",
              " 'bad quality marknoise level highu cant hear voice u kitchen',\n",
              " 'job chimney basically use kitchen mica work small kitchen mica work mostly required kitchen spaceous requirement big drawback hindware providing installation chimney pipeswith chimney additional need purchase',\n",
              " 'awesome installation expensive without hindware warranty cant claimed installation guy took 1100 700 basic 400 travelling charges rupees hole drilling took 1300 150 capproduct goodbut company look installation policy',\n",
              " 'job ok',\n",
              " 'good expected',\n",
              " 'delightful okay product',\n",
              " 'simply awesome using since 6 monthsexcellent product',\n",
              " 'worth money little noicy plastic outlet provided',\n",
              " 'good product good fully satisfied seller send loose piece',\n",
              " 'terrific ok noise',\n",
              " 'worthless aluminium duct pipe given',\n",
              " 'perfect product received product time vry gd condition product received per specification given installation done yetthax flip kart',\n",
              " 'mindblowing purchase installation delayed rest everything fine',\n",
              " 'decent product good smoke suction time noisy',\n",
              " 'delightful noise',\n",
              " 'recommended installation worstperson dont know much professional',\n",
              " 'utterly disappointed tnstal properly',\n",
              " 'delightful delivery quick asked lot cost installation installation local guys',\n",
              " 'nice product product oil leaking issue',\n",
              " 'absolute rubbish installation havent done',\n",
              " 'good quality product product goodbut installation badhe didnt thing',\n",
              " 'recommended installation worstperson dont know much professional',\n",
              " 'excellent ok',\n",
              " 'classy product ok',\n",
              " 'recommended suction power matching given details section dont buy hindware products go brands bakwas hindware',\n",
              " 'wonderful installation product working properly',\n",
              " 'terrific purchase till today ok',\n",
              " 'nice motor sound bit loud',\n",
              " 'terrific',\n",
              " 'slightly disappointed average',\n",
              " 'expected better product makes lots noise',\n",
              " 'horrible quality product value money',\n",
              " 'hated bed experience',\n",
              " 'really nice ok',\n",
              " 'awesome 1moth latter flipkart replace appliance product osm',\n",
              " 'classy product ok',\n",
              " 'worth every penny ok',\n",
              " 'poor responding calls',\n",
              " 'good choice ok',\n",
              " 'best market exellent',\n",
              " 'poor power prodect blower 6 flexibil hose mising box repaking',\n",
              " 'really nice reasonable price',\n",
              " 'worth money product perfectonly exhaust pipe provide little small',\n",
              " 'expected better product body stainless steel magnetic',\n",
              " 'simply awesome installation done wakar',\n",
              " 'terrific purchase ok',\n",
              " 'mindblowing purchase product service good',\n",
              " 'super ok',\n",
              " 'good choice ok ptoduct',\n",
              " 'fair sound',\n",
              " 'fair installation ok',\n",
              " 'utterly disappointed still get replacement product product got defected',\n",
              " 'good noisy else ok',\n",
              " 'decent product sensors goodtoo much noise',\n",
              " 'nice product working fine bit noisy',\n",
              " 'decent product write review using 9 monthsit working 3rd levelam waiting service',\n",
              " 'mindblowing purchase smooth installationprofessional people',\n",
              " 'excellent display chimney working properly 2 months 3 times written emails solution',\n",
              " 'simply awesome working absolutely fine till date didnt need clean',\n",
              " 'job look good suction power wont look like product description almost 2 months back purchased problem display panel need reach coustome care',\n",
              " 'mindblowing purchase bed',\n",
              " 'wonderful expected price oki got 7800',\n",
              " 'terrific purchase goodvalue money spent',\n",
              " 'job making lot noise',\n",
              " 'worth every penny bast product',\n",
              " 'excellent awsome product',\n",
              " 'worst experience ever sound high',\n",
              " 'wonderful installation done secesfully',\n",
              " 'useless product cheep qualty product',\n",
              " 'pretty good product shown',\n",
              " 'fair noise',\n",
              " 'pretty good doubt excellent product price got bottom motion sensors',\n",
              " 'absolute rubbish voice issue',\n",
              " 'simply awesome',\n",
              " 'job value money software poor sensitive overall bad product',\n",
              " 'recommended installation worstperson dont know much professional',\n",
              " 'utterly disappointed tnstal properly',\n",
              " 'delightful delivery quick asked lot cost installation installation local guys',\n",
              " 'nice product product oil leaking issue',\n",
              " 'absolute rubbish installation havent done',\n",
              " 'good quality product product goodbut installation badhe didnt thing',\n",
              " 'great product upgraded model',\n",
              " 'wonderful nise',\n",
              " 'decent product makes noise',\n",
              " 'super price ausam 12500',\n",
              " 'pretty good 70 effectivegood product',\n",
              " 'decent product noise level little high ok',\n",
              " 'great product product nicebut installation take lots time',\n",
              " 'worth money works mentioned',\n",
              " 'awesome bast',\n",
              " 'terrific purchase wanderful product',\n",
              " 'nice motion sensor working 5th month',\n",
              " 'excellent superbbbb',\n",
              " 'simply awesome must buy',\n",
              " 'great product excellant',\n",
              " 'valueformoney excellent',\n",
              " 'unsatisfactory dont buy',\n",
              " 'fabulous lovley',\n",
              " 'valueformoney fast delivery flipcart product goog',\n",
              " 'fair oil leaking issues',\n",
              " 'valueformoney ok',\n",
              " 'super ok',\n",
              " 'wonderful thanx order delivered one day earlier waiting installation',\n",
              " 'terrific mind blowing performance',\n",
              " 'worth money great',\n",
              " 'perfect product exellent bat tennis ball nt stumpher ball bcoz u hit stumphar ball stamp come bat shots exellent toe guard absent exellent tennis ball tqsm flipkart',\n",
              " 'mindblowing purchase bat 1015 age boys',\n",
              " 'could way better hi handel',\n",
              " 'good average quality',\n",
              " 'could way better bat rubber removeyou chitter',\n",
              " 'utterly disappointed fiest dont buy product vwry vwry poooooor quality',\n",
              " 'super super',\n",
              " 'okay ok',\n",
              " 'fair think play tennis ball',\n",
              " 'awesome ok',\n",
              " 'decent product average',\n",
              " 'okay average',\n",
              " 'highly recommended niceworth manybetter bat qualitycomfortable handlethanks flipkart',\n",
              " 'wonderful woow',\n",
              " 'good nice product size read carefully placing order bcoz returned',\n",
              " 'absolute rubbish quality bed saiz standard',\n",
              " 'good average quality',\n",
              " 'fair ok ok product fabric good xl size short waist 34',\n",
              " 'good cheep quality',\n",
              " 'good ok',\n",
              " 'good expected',\n",
              " 'nice beatar',\n",
              " 'nice buying select one smaller size instead regular size',\n",
              " 'best market nice',\n",
              " 'fair ok',\n",
              " 'job ok',\n",
              " 'nice ok',\n",
              " 'worth every penny ok',\n",
              " 'valueformoney bat',\n",
              " 'unsatisfactory wrost joint',\n",
              " 'brilliant 10 years booys ball',\n",
              " 'awesome ok product pack 2 means 2 hand ok best quality easy use',\n",
              " 'fair job',\n",
              " 'job ok',\n",
              " 'really nice okay hands',\n",
              " 'fair bad',\n",
              " 'decent product ok',\n",
              " 'absolute rubbish best tennis ball leather ball',\n",
              " 'nice came terms money',\n",
              " 'fair length small',\n",
              " 'meet expectations made fr cricket net practice',\n",
              " 'awesome gets job done',\n",
              " 'absolute rubbish quality bed saiz standard',\n",
              " 'good average quality',\n",
              " 'fair ok ok product fabric good xl size short waist 34',\n",
              " 'good ok',\n",
              " 'good expected',\n",
              " 'decent product cotton okay',\n",
              " 'nice beatar',\n",
              " 'nice buying select one smaller size instead regular size',\n",
              " 'good quality product nice',\n",
              " 'fair ok',\n",
              " 'job ok',\n",
              " 'decent product ok',\n",
              " 'nice ok',\n",
              " 'worth every penny ok',\n",
              " 'okay average',\n",
              " 'wow ok going gym',\n",
              " 'job ok',\n",
              " 'perfect product',\n",
              " 'recommended size big',\n",
              " 'job quality price',\n",
              " 'fair ok',\n",
              " 'decent product average',\n",
              " 'unsatisfactory average',\n",
              " 'utterly disappointed bed',\n",
              " 'super thanku',\n",
              " 'excellent okkk',\n",
              " 'fair okay okay',\n",
              " 'good much time taken',\n",
              " 'fabulous awesome',\n",
              " 'really nice okey',\n",
              " 'brilliant ok',\n",
              " 'nice average product price',\n",
              " 'job ok',\n",
              " 'fair average',\n",
              " 'bad quality product winter seasonbut booking summer season usefull',\n",
              " 'great product comfert',\n",
              " 'meet expectations third quality product',\n",
              " 'terrific 3rd one',\n",
              " 'useless product stone began swell',\n",
              " 'okay ok',\n",
              " 'fair smaller size expected',\n",
              " 'decent product nice nice',\n",
              " 'highly recommended ok',\n",
              " 'good quality product tight according size',\n",
              " 'worth money okay',\n",
              " 'terrible product bed quality',\n",
              " 'excellent fitting',\n",
              " 'bad quality average',\n",
              " 'slightly disappointed average',\n",
              " 'good using days color gone',\n",
              " 'wonderful okk',\n",
              " 'classy product gud',\n",
              " 'hated material law',\n",
              " 'good item average',\n",
              " 'nice product liked productnot bad ok',\n",
              " 'nice plastic quality gudbut stumps u black linethat made electricians tape gud removed minutesplease dont buy stumps strips look',\n",
              " 'terrific ok',\n",
              " 'job overall 3 5',\n",
              " 'could way better average quality',\n",
              " 'nice leather',\n",
              " 'good choice nice price slightly damaged',\n",
              " 'awesome nise',\n",
              " 'okay suite leather ball cricket',\n",
              " 'could way better quietly good',\n",
              " 'good choice product good job utensils coming clean without issues installation team jeevs pathetic',\n",
              " 'good 4 wash programs available',\n",
              " 'utterly disappointed minimum running time product 3hrs',\n",
              " 'really nice everything properly washed water putting dish washer good heavily soiled dishwashers spray water dry dont scrub utensils good ifb services good',\n",
              " 'good entrylevel product happy product complaint maintenance costly one time usage day month would cost approx 7000 need change rinse liquid salt every month also complaint electricity consumption runs approx 40 min 2 hours based prog select complaints washing ability',\n",
              " 'good month dishwasher started making lots noise service person able fix',\n",
              " 'good product good installation person didnt install tap told company didnt provided busher didnt installed successfully didnt liked company reviews much',\n",
              " 'brilliant installed till today',\n",
              " 'fair please goahead fir big size even good single family',\n",
              " 'really nice delivery goodwhere ifb demo good poor technical',\n",
              " 'moderate doesnt wash indolium vessels properly accessories cost high',\n",
              " 'job product great installation extremely slow',\n",
              " 'pretty good ok',\n",
              " 'really nice product installation services good received minor damage product suggestion take precautions packing delivery product',\n",
              " 'nice ok problem',\n",
              " 'okay service provided flipkart good even product reached expected provided time however badly unsatisfied demo installation provided ifb moreover fell engineer inexperienced locked machine demo due called unlocked itadding ifb forced buy 2 pipes cost around 1400 cost salt washing powder means pipe comes machine use',\n",
              " 'excellent midea good product demo bad',\n",
              " 'absolute rubbish product average per expetance',\n",
              " 'fair product fair per cost rely technician operation cautions unit limited knowledge product operations follow user manual operation cautions unit',\n",
              " 'good good never compare ifb build quality dish washing quality far far better ifb pathetic demo installation service hence 4 star rated',\n",
              " 'wonderful superb product pathetic brand flipkart sales supoort',\n",
              " 'highly recommended product good flipkarts service worst',\n",
              " 'wow wonderful',\n",
              " 'nice impressive looks good wash non compatible dishwashers poor',\n",
              " 'moderate doesnt wash indolium vessels properly accessories cost high',\n",
              " 'bad quality satisfiedits use medium bigger platesits cleaning expected',\n",
              " 'fair average machine',\n",
              " 'unsatisfactory though product delivered per committed time one company contacted us far installation demo contacted flipkart customer service started saying installation demo indicated sellers page product hence arrange installation local person yet opened box time return also approaching fast expecting call seller flipkart seeing f',\n",
              " 'nice shiner working properly 1 month',\n",
              " 'good product nice till date satisfied 1st wash half load quick setting product silent operation would given 45 stars company product installation gave low stars demo never given ourself',\n",
              " 'worth every penny bad',\n",
              " 'waste money 1 aluminum vessels becoming black colour powder precipitate2 detergent dispenser getting open wash cycle3 installation also done 2 days several follow ups',\n",
              " 'wonderful average cleaning',\n",
              " 'simply awesome product standing service bad',\n",
              " 'worth money yet b installed use',\n",
              " 'good quality product product good doubt however installation importantly demo inadequate mark',\n",
              " 'good 5 star product delivery time flipkart forgot arrange installation demo waiting 5 days asked arranged installation however time ac never purchased finally book installation directly voltas dont get callsms voltas within 2days delivery call book installation directly dont wait flipkart',\n",
              " 'worthless wash properly',\n",
              " 'waste money bought could work till time dueto water fill spray inside installation completedi request ask customercare also',\n",
              " 'pretty good machine absolute worth buy satisfied th technician installed zero knowledge instead salt poured insecticide',\n",
              " 'pretty good ok delay installation',\n",
              " 'wonderful 1 days early pass comment',\n",
              " 'pretty good ok',\n",
              " 'nice ok problem',\n",
              " 'need shell another rs 7000 installation beware price listedi bought dishwasher flipkart rs 37990 installation staff charged rs 7125 consumables like salt detergent deodorant etcthe machine came pipe fit installation engineer comes bill 580 pipethey force buy electrical mcb switch costing 1320 stand 1430even though advertised price 37990 ended paying 45205 dishwasherkeep mind buyin',\n",
              " 'must buy product working normal noise level low',\n",
              " 'excellent tap adapter available product installation still pending still searching tap adapter',\n",
              " 'decent product mark',\n",
              " 'okay ok product using one week doesnt clean milk pans properly kadais little bit disappointed',\n",
              " 'wonderful nice washer low noise takes 15 hrs wash full load eco installed demo delayed 4 days place 10 km city center contacted flipkart escalated person came next day need angle watertap one threads installation get one call agent',\n",
              " 'wonderful delivery installation took longer expected',\n",
              " 'fair wire provided connecting mains thin gets heated',\n",
              " 'fabulous vh ok ggji',\n",
              " 'really nice ok',\n",
              " 'really nice average',\n",
              " 'job medium',\n",
              " 'absolute rubbish ok',\n",
              " 'awesome cheapest',\n",
              " 'okay ok',\n",
              " 'hated working properly',\n",
              " 'highly recommended okay',\n",
              " 'good quality product better best',\n",
              " 'mindblowing purchase ok',\n",
              " 'really nice ok',\n",
              " 'worth money quality ok',\n",
              " 'job ok',\n",
              " 'best market ok',\n",
              " 'moderate indication lamps sticker smal sizg transfarmar',\n",
              " 'terrific purchase ok',\n",
              " 'job dont know power supply provided 2pin think 3pin required earth voltage happens',\n",
              " 'good ok',\n",
              " 'delightful ok',\n",
              " 'worth money ok',\n",
              " 'job ok ok type product',\n",
              " 'pretty good ok',\n",
              " 'good quality product okk',\n",
              " 'good average product',\n",
              " 'fabulous ok',\n",
              " 'nice average',\n",
              " 'pretty good vb ok',\n",
              " 'pretty good vb ok',\n",
              " 'delightful ok ok',\n",
              " 'could way better average',\n",
              " 'delightful okk',\n",
              " 'job okay okay',\n",
              " 'good ok ok',\n",
              " 'good ok',\n",
              " 'classy product small remote',\n",
              " 'perfect product ok',\n",
              " 'good badbut room improvementeg finishing',\n",
              " 'pretty good ok',\n",
              " 'fabulous vh ok ggji',\n",
              " 'really nice ok',\n",
              " 'really nice average',\n",
              " 'nice okay',\n",
              " 'fair cable quality low 2 pin type average',\n",
              " 'fair okbut gd',\n",
              " 'classy product awsm',\n",
              " 'poor working',\n",
              " 'job average',\n",
              " 'horrible good bad',\n",
              " 'good ok',\n",
              " 'slightly disappointed ok',\n",
              " 'valueformoney ok',\n",
              " 'okay much light weight didnt feel like originalquality also ok',\n",
              " 'okay looking like original remote working perfectly lets c long work working manner',\n",
              " 'excellent nyc remote remote weight good',\n",
              " 'perfect product ok',\n",
              " 'bad quality light weight',\n",
              " 'job avarage',\n",
              " 'fabulous okay',\n",
              " 'pretty good ok',\n",
              " 'highly recommended ok',\n",
              " 'nice okay',\n",
              " 'good ok working fine',\n",
              " 'valueformoney ok',\n",
              " 'good genuine products',\n",
              " 'good okay',\n",
              " 'okay jest ok',\n",
              " 'good choice ok ok type',\n",
              " 'okay ok quality good look',\n",
              " 'okay much quality product',\n",
              " 'okay ok quality good look',\n",
              " 'wow nyc product rate high',\n",
              " 'great product satisfied',\n",
              " 'dont waste money wastage money purchased product nov 20now product working requesting go buy product',\n",
              " 'job product ok taking 35min cook 1kg rice',\n",
              " 'worth every penny enough 34 people',\n",
              " 'useless product product working',\n",
              " 'bad quality much heat emitting plastic smell',\n",
              " 'moderate slow heating',\n",
              " 'unsatisfactory rice working',\n",
              " 'good quality product wounder ful product',\n",
              " 'valueformoney dood',\n",
              " 'must buy quantity rice measure give small bowel intime taken cooking',\n",
              " 'really nice ok',\n",
              " 'dont waste money small size',\n",
              " 'worth every penny recomended buy',\n",
              " 'okay oke product',\n",
              " 'terrific item good',\n",
              " 'job gud prdtc',\n",
              " 'unsatisfactory proper cooking',\n",
              " 'decent product ok',\n",
              " 'horrible wrost product',\n",
              " 'unsatisfactory warast wast money',\n",
              " 'could way better switch working properly',\n",
              " 'could way better cooking time 50 minutesvery long time',\n",
              " 'decent product ok',\n",
              " 'worth every penny osm prodect',\n",
              " 'job normal',\n",
              " 'nice ok',\n",
              " 'nice ok',\n",
              " 'good ok',\n",
              " 'job ok',\n",
              " 'decent product taking time cooking rice',\n",
              " 'expected better product avarage',\n",
              " 'awesome prdect asome asome',\n",
              " 'could way better small',\n",
              " 'worth every penny ok',\n",
              " 'good ok',\n",
              " 'mindblowing purchase ok',\n",
              " 'highly recommended wroth',\n",
              " 'classy product tq flipkart',\n",
              " 'classy product osm usefulmust buy',\n",
              " 'valueformoney bad compred sansui rice cooker',\n",
              " 'nice quality okay',\n",
              " 'best market supar',\n",
              " 'recommended work properly',\n",
              " 'terrible product rice coocked 1 hour',\n",
              " 'delightful okbut small quantity cooking bottom full dry',\n",
              " 'fair working know one year',\n",
              " 'decent product presently ok functioning properly',\n",
              " 'worth every penny ok',\n",
              " 'delightful long life product',\n",
              " 'nice ok',\n",
              " 'really nice ok product go ir',\n",
              " 'okay quality light take time cook ok something improvement',\n",
              " 'absolute rubbish dont buy product',\n",
              " 'fair one boul',\n",
              " 'fair ok',\n",
              " 'job ok',\n",
              " 'okay supr',\n",
              " 'fair compare pigeon n prestige quality n thickness low ok bachelors use n throw',\n",
              " 'moderate food burn bottom',\n",
              " 'okay average',\n",
              " 'perfect product ok',\n",
              " 'fair automatic cooking good automatic cook works rice starts burning dont wait auto cook instead keep checking cookingso u invest little money get product another brand like panasonichavells etc etc',\n",
              " 'decent product ok compare old one8 year old',\n",
              " 'fair ok difficult clean base level inner pot',\n",
              " 'simply awesome daliveri boy smart quick',\n",
              " 'simply awesome good',\n",
              " 'nice beter',\n",
              " 'nice ok',\n",
              " 'absolute rubbish average',\n",
              " 'okay average quality',\n",
              " 'worth money product gudjust itt',\n",
              " 'valueformoney dood',\n",
              " 'okay looking goodbut small piece',\n",
              " 'bad quality good bad',\n",
              " 'pretty good ok',\n",
              " 'fair averege',\n",
              " 'fair ok bad worth money',\n",
              " 'job oky',\n",
              " 'nice ok',\n",
              " 'good ok',\n",
              " 'wow osm product',\n",
              " 'highly recommended wroth',\n",
              " 'wonderful bowl little thin',\n",
              " 'fair product base pillar temporary modify base pillar',\n",
              " 'classy product tq flipkart',\n",
              " 'valueformoney bad compred sansui rice cooker',\n",
              " 'nice quality okay',\n",
              " 'delightful okbut small quantity cooking bottom full dry',\n",
              " 'fair working know one year',\n",
              " 'pretty good slightly bend',\n",
              " 'worth every penny ok',\n",
              " 'delightful long life product',\n",
              " 'nice ok',\n",
              " 'fair many time cook rice',\n",
              " 'wonderful product ok',\n",
              " 'nice ok product',\n",
              " 'terrific good',\n",
              " 'nice slow heating',\n",
              " 'fair compare pigeon n prestige quality n thickness low ok bachelors use n throw',\n",
              " 'okay average',\n",
              " 'okay ok go',\n",
              " 'perfect product ok',\n",
              " 'fair automatic cooking good automatic cook works rice starts burning dont wait auto cook instead keep checking cookingso u invest little money get product another brand like panasonichavells etc etc',\n",
              " 'decent product ok compare old one8 year old',\n",
              " 'good ok ok',\n",
              " 'could way better cooking slowly',\n",
              " 'good indication light work',\n",
              " 'nice beter',\n",
              " 'terrific ok good',\n",
              " 'nice ok',\n",
              " 'absolute rubbish average',\n",
              " 'mindblowing purchase ok',\n",
              " 'good ok',\n",
              " 'meet expectations badbad experience flipkart',\n",
              " 'terrific purchase extra bowl kavali',\n",
              " 'job ok ok',\n",
              " 'okay rice quality goodif prepare rice according manual provided rice remain half boiled',\n",
              " 'worth money good',\n",
              " 'wonderful awesome',\n",
              " 'absolute rubbish able cook food cooking switch working',\n",
              " 'good choice awsome specialy auto cooking',\n",
              " 'terrible product one rice bowl box whereas product said two bowls',\n",
              " 'worthless west product money booka working one week',\n",
              " 'worth every penny product received',\n",
              " 'hated wost product',\n",
              " 'great product product good',\n",
              " 'unsatisfactory month usage cooker turning hot mode always stuck warm mode dont buy product',\n",
              " 'unsatisfactory work',\n",
              " 'absolute rubbish one meter wire suitable plugboards',\n",
              " 'moderate water coming even little rice cooked',\n",
              " 'utterly disappointed small one 2 3 people',\n",
              " 'worst experience ever got used bowls',\n",
              " 'meet expectations working month',\n",
              " 'absolute rubbish working properly',\n",
              " 'absolute rubbish product working delivered yesterday',\n",
              " 'good average product',\n",
              " 'okay size small cook food 3 peoples',\n",
              " 'terrific awesome',\n",
              " 'good slowly cooked',\n",
              " 'delightful spr',\n",
              " 'expected better product small sufficient one person mostly single bachelors sufficient group friendsfamily suggest take 18l variant 200 difference',\n",
              " 'awesome simply superb',\n",
              " 'dont waste money cheap quality product prestage',\n",
              " 'waste money took almost 2 hours cook chambav rice available kerala suitable thin white rice guess',\n",
              " 'simply awesome supper quality product',\n",
              " 'super supper',\n",
              " 'fabulous wowthank flipcark',\n",
              " 'bad quality avarage',\n",
              " 'useless product rice burning onoff switch working consistently',\n",
              " 'absolute rubbish less quality wire burn smell',\n",
              " 'recommended wast product',\n",
              " 'slightly disappointed product bed',\n",
              " 'utterly disappointed jada slow',\n",
              " 'poor working',\n",
              " 'horrible using 4 months workingworst productwaste money dont buy',\n",
              " 'hated little h',\n",
              " 'excellent simple supper',\n",
              " 'utterly disappointed small',\n",
              " 'absolute rubbish hit issue',\n",
              " 'wow nice',\n",
              " 'worthless buy u thinking boil rice food water boiling',\n",
              " 'wow go',\n",
              " 'dont waste money waste',\n",
              " 'brilliant nyc product',\n",
              " 'good quality product bohat usefull',\n",
              " 'worthless weast dis product tooo small',\n",
              " 'wonderful go guys',\n",
              " 'awesome ameging',\n",
              " 'horrible working 2 month',\n",
              " 'poor wrost product',\n",
              " 'waste money expected',\n",
              " 'pretty good verrygood',\n",
              " 'pretty good quality product',\n",
              " 'perfect product good',\n",
              " 'nice inside small one make one person',\n",
              " 'useless product stopped working within 15 days purchasenot worth',\n",
              " 'highly recommended ossam',\n",
              " 'okay okbut worthfull comparing product price',\n",
              " 'useless product size small',\n",
              " 'fair 750ml water boil size given 15l',\n",
              " 'expected better product working',\n",
              " 'excellent superbbbb',\n",
              " 'valueformoney nice',\n",
              " 'decent product price tipe product',\n",
              " 'hated bad',\n",
              " 'decent product product okaybut steel little thin',\n",
              " 'good kettle excellentbut water bottle markif stored hot wateri smell something else water drinkingmay reaction happening inside water bottel even using last 20 daysstill kind smell',\n",
              " 'poor pllastic well bad steel low thiknes',\n",
              " 'terrible product bottle normal water',\n",
              " 'brilliant kettali best dilevary bad',\n",
              " 'wonderful greatmust buy good productbut ecom delivery boys behaviour worst',\n",
              " 'valueformoney everything ok hard boil chicken eggs due autocut',\n",
              " 'good choice ok',\n",
              " 'recommended late delivery average product sounds much',\n",
              " 'okay item goodbut come late',\n",
              " 'great product pros working wellcons bulkier looks',\n",
              " 'okay thats like ok product',\n",
              " 'slightly disappointed jar gets ruptured 3 uses',\n",
              " 'expected better product goodok ok',\n",
              " 'horrible dont buy',\n",
              " 'nice kettle good main problem lid remain open try fill',\n",
              " 'good choice good working 1 screw loose dont tightennot major issue',\n",
              " 'okay draw back getting stains bottom kittle using couple times',\n",
              " 'good takes max 5 mins boil water completely makes little noise',\n",
              " 'nice originally pigeon kettle',\n",
              " 'excellent ok',\n",
              " 'good everage product quality',\n",
              " 'good wire length short',\n",
              " 'simply awesome connection wire short',\n",
              " 'wonderful average',\n",
              " 'okay leaking near joint',\n",
              " 'decent product overall fineworth price product received leaks bottomwant return',\n",
              " 'waste money outer part electric kittle getting heat boiling water power cable short',\n",
              " 'nice boil water dont try boil cook anything else bottom surface inside burnt',\n",
              " 'poor chinese product use',\n",
              " 'mindblowing purchase ok',\n",
              " 'good one day use',\n",
              " 'nice okk',\n",
              " 'wonderful ok',\n",
              " 'okay decent one one problemmy unit heats one side',\n",
              " 'fair expensive',\n",
              " 'perfect product ok',\n",
              " 'unsatisfactory old product',\n",
              " 'fair plugin wire extremely small 3 star',\n",
              " 'decent product times work slow conduct current',\n",
              " 'job fitting stand',\n",
              " 'job boil water automatic switch',\n",
              " 'super ok good quality stainless steel today first day use clinic',\n",
              " 'pretty good usefull',\n",
              " 'valueformoney ok',\n",
              " 'good cheap quality',\n",
              " 'okay bad',\n",
              " 'nice ok',\n",
              " 'waste money much heating',\n",
              " 'good quality low ase per value ita ok give 25 5',\n",
              " 'nice cable bahot shot hy',\n",
              " 'bad quality use 2 week working',\n",
              " 'good quality product wire small rest gid kettle',\n",
              " 'pretty good bad ok ok',\n",
              " 'could way better simple quality',\n",
              " 'nice good product quality little poor',\n",
              " 'could way better wire shot',\n",
              " 'okay average',\n",
              " 'awesome hears water fast light weight buy',\n",
              " 'mindblowing purchase heating time lowwater',\n",
              " 'pretty good product goodheat fast wire short',\n",
              " 'excellent little ok',\n",
              " 'really nice ok',\n",
              " 'good choice gud product',\n",
              " 'terrific purchase ok',\n",
              " 'fair ok',\n",
              " 'valueformoney product quality nicebut product needs heavy electric',\n",
              " 'nice product ok',\n",
              " 'simply awesome ok',\n",
              " 'good ok',\n",
              " 'okay body steel thin',\n",
              " 'worst experience ever working',\n",
              " 'okay average',\n",
              " 'moderate bed quality',\n",
              " 'waste money material quality mark',\n",
              " 'best market electric cable shorts',\n",
              " 'job okey',\n",
              " 'moderate size small',\n",
              " 'good kettle leaking first day',\n",
              " 'decent product ok',\n",
              " 'worth every penny ok',\n",
              " 'nice product use water heating tea coffee making',\n",
              " 'okay ok ok product',\n",
              " 'good ok',\n",
              " 'wonderful dori short ketal good',\n",
              " 'job ok type',\n",
              " 'okay average product',\n",
              " 'unsatisfactory one month operating',\n",
              " 'really nice ok',\n",
              " 'okay ok bad',\n",
              " 'good ok',\n",
              " 'meet expectations working products',\n",
              " 'dont waste money bad ok',\n",
              " 'job ok complete need',\n",
              " 'okay average',\n",
              " 'wonderful everything good except parts somewhere weak',\n",
              " 'fair avarage quality product good',\n",
              " 'good quality product ok',\n",
              " 'decent product ok',\n",
              " 'horrible average item',\n",
              " 'fair ok type',\n",
              " 'decent product ok',\n",
              " 'wonderful bad good',\n",
              " 'good data transfer speed 7 mbps 23 mbps',\n",
              " '30 mbps transfer speed transfer speed slow usb 30 max 30 mbps transfer speed',\n",
              " 'perfect product gives constant speed 125mb dont use laptop charging',\n",
              " 'good getting hotter fast',\n",
              " 'moderate slow transfer rate',\n",
              " 'terrible product workingby time tested return policy completed',\n",
              " 'good lightweight seems break one fall',\n",
              " 'awesome okay',\n",
              " 'good data transfer speed 7 mbps 23 mbps',\n",
              " 'perfect product gives constant speed 125mb dont use laptop charging',\n",
              " 'good getting hotter fast',\n",
              " 'okay transfer rate slow',\n",
              " 'moderate slow transfer rate',\n",
              " 'good harddisk compatible little bit slower data transferring around transfer rate 35mbs',\n",
              " 'terrific purchase ok',\n",
              " 'terrific space 18 tb',\n",
              " 'job compatible otg connections',\n",
              " 'good quality product using one month usage review',\n",
              " 'expected better product using linux system getting 20mbps speed',\n",
              " 'decent product data transfer speed expected 25mbsec highest',\n",
              " 'fabulous products superb delivery bad late',\n",
              " 'awesome 130mbps speed',\n",
              " 'recommended slow performance',\n",
              " 'nice drive ok support tv',\n",
              " 'highly recommended ok',\n",
              " 'perfect product ok',\n",
              " 'moderate transfer data slow 15mbs checking',\n",
              " 'pretty good okay',\n",
              " 'good quality product ok',\n",
              " 'pretty good product goodbut flipkart package poor',\n",
              " 'best market noice',\n",
              " 'excellent ok',\n",
              " 'decent product good best',\n",
              " 'good good little heat problem use long time',\n",
              " 'okay ok',\n",
              " 'classy product goodbut segate software working laptop',\n",
              " 'good speed 3540 mb',\n",
              " 'really nice device handy getting less data speed sure problem laptop hdd 2tb get 181tb use',\n",
              " 'okay ok product bit costlier',\n",
              " 'wonderful ok',\n",
              " 'brilliant net capacity 931 gb',\n",
              " 'decent product okay',\n",
              " 'fair average',\n",
              " 'decent product looks ok fast wd',\n",
              " 'utterly disappointed smart tv worksnot tv',\n",
              " 'great product looking 1tb hard disk doubt go ignore comments says slow really high speed like ssd comes one cable manual box also white led top',\n",
              " 'nice speed data transfer',\n",
              " 'wonderful quality product good little bit disappointed delivery time got order extension delivery date',\n",
              " 'nice transfer speed slow 20mb transfer per second',\n",
              " 'great product looking 1tb hard disk doubt go ignore comments says slow really high speed like ssd comes one cable manual box also white led top',\n",
              " 'job thickness expected',\n",
              " 'nice speed data transfer',\n",
              " 'useless product ok',\n",
              " 'okay data transfer rate bit slow',\n",
              " 'good quality good better go variants',\n",
              " 'good choice get 139 tb buy 15tb otherwise bestone',\n",
              " 'valueformoney market specification 15 tb doesnt match actual technical specification 15 tb get 15x1000x1000x1000 kb instead 15x1024x1024x1024 kb actual size 13 tb',\n",
              " 'mindblowing purchase 84mbps',\n",
              " 'good quality product slight heating problemsoverall goodbut speeds consistentsometimes speed 75mbpssometimes drops 5mbps',\n",
              " 'awesome nice product best found average copy speed 72mbps times touches 102mbps',\n",
              " 'good upto mark',\n",
              " 'useless product looking ok performance slow',\n",
              " 'good available space 132 gb 15 gb',\n",
              " 'nice ok ok good hangs sometime',\n",
              " 'fabulous name',\n",
              " 'decent product speed slow',\n",
              " 'nice average',\n",
              " 'nice avarage',\n",
              " 'nice product initially hardware error simple google search helped thankfully',\n",
              " 'valueformoney ok',\n",
              " 'good product goodspeed normal',\n",
              " ...]"
            ]
          },
          "metadata": {},
          "execution_count": 108
        }
      ]
    },
    {
      "cell_type": "markdown",
      "source": [
        "#Multinomial Naive Bayes algorithm"
      ],
      "metadata": {
        "id": "oXq2bGYuHAam"
      }
    },
    {
      "cell_type": "code",
      "source": [
        "from sklearn.naive_bayes import MultinomialNB\n",
        "from sklearn.metrics import classification_report, confusion_matrix, accuracy_score\n",
        "import seaborn as sn\n",
        "from sklearn import metrics\n",
        "from sklearn.cluster import KMeans\n",
        "from sklearn.feature_extraction.text import TfidfVectorizer\n",
        "import nltk\n",
        "from nltk.corpus import stopwords\n",
        "nltk.download('stopwords')"
      ],
      "metadata": {
        "id": "t-0LtKRfJCq4",
        "colab": {
          "base_uri": "https://localhost:8080/"
        },
        "outputId": "b4ef6359-bc36-4865-a46d-c3f5a5462e6b"
      },
      "execution_count": null,
      "outputs": [
        {
          "output_type": "stream",
          "name": "stderr",
          "text": [
            "[nltk_data] Downloading package stopwords to /root/nltk_data...\n",
            "[nltk_data]   Package stopwords is already up-to-date!\n"
          ]
        },
        {
          "output_type": "execute_result",
          "data": {
            "text/plain": [
              "True"
            ]
          },
          "metadata": {},
          "execution_count": 131
        }
      ]
    },
    {
      "cell_type": "code",
      "source": [
        "\n",
        "y = data1['Sentiment']"
      ],
      "metadata": {
        "id": "6m6EjOd-7Mt4"
      },
      "execution_count": null,
      "outputs": []
    },
    {
      "cell_type": "code",
      "source": [
        "X_train, X_test, Y_train, Y_test = train_test_split(X, y, test_size=0.3, random_state=5)\n"
      ],
      "metadata": {
        "id": "ZL0vPcIs07wu"
      },
      "execution_count": null,
      "outputs": []
    },
    {
      "cell_type": "code",
      "source": [
        "nb = MultinomialNB()\n",
        "nb.fit(X_train, Y_train)"
      ],
      "metadata": {
        "id": "gmLBA2R4Qp5q",
        "colab": {
          "base_uri": "https://localhost:8080/",
          "height": 74
        },
        "outputId": "e019b425-67fc-40cf-9858-f2a605bfd843"
      },
      "execution_count": null,
      "outputs": [
        {
          "output_type": "execute_result",
          "data": {
            "text/plain": [
              "MultinomialNB()"
            ],
            "text/html": [
              "<style>#sk-container-id-2 {color: black;background-color: white;}#sk-container-id-2 pre{padding: 0;}#sk-container-id-2 div.sk-toggleable {background-color: white;}#sk-container-id-2 label.sk-toggleable__label {cursor: pointer;display: block;width: 100%;margin-bottom: 0;padding: 0.3em;box-sizing: border-box;text-align: center;}#sk-container-id-2 label.sk-toggleable__label-arrow:before {content: \"▸\";float: left;margin-right: 0.25em;color: #696969;}#sk-container-id-2 label.sk-toggleable__label-arrow:hover:before {color: black;}#sk-container-id-2 div.sk-estimator:hover label.sk-toggleable__label-arrow:before {color: black;}#sk-container-id-2 div.sk-toggleable__content {max-height: 0;max-width: 0;overflow: hidden;text-align: left;background-color: #f0f8ff;}#sk-container-id-2 div.sk-toggleable__content pre {margin: 0.2em;color: black;border-radius: 0.25em;background-color: #f0f8ff;}#sk-container-id-2 input.sk-toggleable__control:checked~div.sk-toggleable__content {max-height: 200px;max-width: 100%;overflow: auto;}#sk-container-id-2 input.sk-toggleable__control:checked~label.sk-toggleable__label-arrow:before {content: \"▾\";}#sk-container-id-2 div.sk-estimator input.sk-toggleable__control:checked~label.sk-toggleable__label {background-color: #d4ebff;}#sk-container-id-2 div.sk-label input.sk-toggleable__control:checked~label.sk-toggleable__label {background-color: #d4ebff;}#sk-container-id-2 input.sk-hidden--visually {border: 0;clip: rect(1px 1px 1px 1px);clip: rect(1px, 1px, 1px, 1px);height: 1px;margin: -1px;overflow: hidden;padding: 0;position: absolute;width: 1px;}#sk-container-id-2 div.sk-estimator {font-family: monospace;background-color: #f0f8ff;border: 1px dotted black;border-radius: 0.25em;box-sizing: border-box;margin-bottom: 0.5em;}#sk-container-id-2 div.sk-estimator:hover {background-color: #d4ebff;}#sk-container-id-2 div.sk-parallel-item::after {content: \"\";width: 100%;border-bottom: 1px solid gray;flex-grow: 1;}#sk-container-id-2 div.sk-label:hover label.sk-toggleable__label {background-color: #d4ebff;}#sk-container-id-2 div.sk-serial::before {content: \"\";position: absolute;border-left: 1px solid gray;box-sizing: border-box;top: 0;bottom: 0;left: 50%;z-index: 0;}#sk-container-id-2 div.sk-serial {display: flex;flex-direction: column;align-items: center;background-color: white;padding-right: 0.2em;padding-left: 0.2em;position: relative;}#sk-container-id-2 div.sk-item {position: relative;z-index: 1;}#sk-container-id-2 div.sk-parallel {display: flex;align-items: stretch;justify-content: center;background-color: white;position: relative;}#sk-container-id-2 div.sk-item::before, #sk-container-id-2 div.sk-parallel-item::before {content: \"\";position: absolute;border-left: 1px solid gray;box-sizing: border-box;top: 0;bottom: 0;left: 50%;z-index: -1;}#sk-container-id-2 div.sk-parallel-item {display: flex;flex-direction: column;z-index: 1;position: relative;background-color: white;}#sk-container-id-2 div.sk-parallel-item:first-child::after {align-self: flex-end;width: 50%;}#sk-container-id-2 div.sk-parallel-item:last-child::after {align-self: flex-start;width: 50%;}#sk-container-id-2 div.sk-parallel-item:only-child::after {width: 0;}#sk-container-id-2 div.sk-dashed-wrapped {border: 1px dashed gray;margin: 0 0.4em 0.5em 0.4em;box-sizing: border-box;padding-bottom: 0.4em;background-color: white;}#sk-container-id-2 div.sk-label label {font-family: monospace;font-weight: bold;display: inline-block;line-height: 1.2em;}#sk-container-id-2 div.sk-label-container {text-align: center;}#sk-container-id-2 div.sk-container {/* jupyter's `normalize.less` sets `[hidden] { display: none; }` but bootstrap.min.css set `[hidden] { display: none !important; }` so we also need the `!important` here to be able to override the default hidden behavior on the sphinx rendered scikit-learn.org. See: https://github.com/scikit-learn/scikit-learn/issues/21755 */display: inline-block !important;position: relative;}#sk-container-id-2 div.sk-text-repr-fallback {display: none;}</style><div id=\"sk-container-id-2\" class=\"sk-top-container\"><div class=\"sk-text-repr-fallback\"><pre>MultinomialNB()</pre><b>In a Jupyter environment, please rerun this cell to show the HTML representation or trust the notebook. <br />On GitHub, the HTML representation is unable to render, please try loading this page with nbviewer.org.</b></div><div class=\"sk-container\" hidden><div class=\"sk-item\"><div class=\"sk-estimator sk-toggleable\"><input class=\"sk-toggleable__control sk-hidden--visually\" id=\"sk-estimator-id-2\" type=\"checkbox\" checked><label for=\"sk-estimator-id-2\" class=\"sk-toggleable__label sk-toggleable__label-arrow\">MultinomialNB</label><div class=\"sk-toggleable__content\"><pre>MultinomialNB()</pre></div></div></div></div></div>"
            ]
          },
          "metadata": {},
          "execution_count": 134
        }
      ]
    },
    {
      "cell_type": "code",
      "source": [
        "prediction = nb.predict(X_test)\n",
        "prediction"
      ],
      "metadata": {
        "colab": {
          "base_uri": "https://localhost:8080/"
        },
        "id": "9dMyJCOvJQCK",
        "outputId": "180208af-031e-4ae6-930e-7ceb82be98bb"
      },
      "execution_count": null,
      "outputs": [
        {
          "output_type": "execute_result",
          "data": {
            "text/plain": [
              "array(['positive', 'positive', 'positive', ..., 'negative', 'positive',\n",
              "       'positive'], dtype='<U8')"
            ]
          },
          "metadata": {},
          "execution_count": 135
        }
      ]
    },
    {
      "cell_type": "code",
      "source": [
        "x2 = cv.transform(['bad not satisfied'])\n",
        "nb.predict(x2)"
      ],
      "metadata": {
        "colab": {
          "base_uri": "https://localhost:8080/"
        },
        "id": "-OR7RS3scgaL",
        "outputId": "ea898b76-117a-4129-d91e-a5994c945b43"
      },
      "execution_count": null,
      "outputs": [
        {
          "output_type": "execute_result",
          "data": {
            "text/plain": [
              "array(['negative'], dtype='<U8')"
            ]
          },
          "metadata": {},
          "execution_count": 29
        }
      ]
    },
    {
      "cell_type": "code",
      "source": [
        "cm = metrics.confusion_matrix(Y_test,prediction)\n",
        "sn.heatmap(cm, annot=True , fmt='.2f')\n"
      ],
      "metadata": {
        "colab": {
          "base_uri": "https://localhost:8080/",
          "height": 565
        },
        "id": "DOK_pOflJTL9",
        "outputId": "59eb908d-d439-4c98-f1eb-f5c7ee478d37"
      },
      "execution_count": null,
      "outputs": [
        {
          "output_type": "execute_result",
          "data": {
            "text/plain": [
              "<Axes: >"
            ]
          },
          "metadata": {},
          "execution_count": 31
        },
        {
          "output_type": "display_data",
          "data": {
            "text/plain": [
              "<Figure size 500x627 with 2 Axes>"
            ],
            "image/png": "[encoded data removed]"
          },
          "metadata": {}
        }
      ]
    },
    {
      "cell_type": "code",
      "source": [
        "print(classification_report(Y_test,prediction))"
      ],
      "metadata": {
        "colab": {
          "base_uri": "https://localhost:8080/"
        },
        "id": "48tmY0i6JfNv",
        "outputId": "e1ee002a-dc0e-459d-c288-aa25431db2a1"
      },
      "execution_count": null,
      "outputs": [
        {
          "output_type": "stream",
          "name": "stdout",
          "text": [
            "              precision    recall  f1-score   support\n",
            "\n",
            "    negative       0.81      0.79      0.80      8501\n",
            "     neutral       0.55      0.11      0.19      3163\n",
            "    positive       0.93      0.98      0.95     49851\n",
            "\n",
            "    accuracy                           0.91     61515\n",
            "   macro avg       0.76      0.63      0.65     61515\n",
            "weighted avg       0.89      0.91      0.89     61515\n",
            "\n"
          ]
        }
      ]
    },
    {
      "cell_type": "code",
      "source": [
        "print('Accuracy of the model: {0}%'.format(accuracy_score(Y_test,prediction)*100))"
      ],
      "metadata": {
        "colab": {
          "base_uri": "https://localhost:8080/"
        },
        "id": "3ZBcv2-NLJHV",
        "outputId": "8fa23a31-9a4d-4b5b-9d91-dae781e0d74a"
      },
      "execution_count": null,
      "outputs": [
        {
          "output_type": "stream",
          "name": "stdout",
          "text": [
            "Accuracy of the model: 90.79248963667398%\n"
          ]
        }
      ]
    },
    {
      "cell_type": "markdown",
      "source": [
        "#Neutral classification based on frequency of the words occurring"
      ],
      "metadata": {
        "id": "7W90I5wsFehV"
      }
    },
    {
      "cell_type": "code",
      "source": [
        "Top_Words_Review =pd.Series(' '.join(clean_neu).lower().split()).value_counts()[:10]\n",
        "print (\"Top Count Words Used In Review:\\n\", Top_Words_Review)"
      ],
      "metadata": {
        "colab": {
          "base_uri": "https://localhost:8080/"
        },
        "id": "-SvfhqSLBqaY",
        "outputId": "a2536590-85fc-4a75-dc9f-ff625bfe27d6"
      },
      "execution_count": null,
      "outputs": [
        {
          "output_type": "stream",
          "name": "stdout",
          "text": [
            "Top Count Words Used In Review:\n",
            " product    2875\n",
            "ok         2799\n",
            "good       2678\n",
            "nan        1433\n",
            "quality    1197\n",
            "nice       1055\n",
            "okay        892\n",
            "average     702\n",
            "small       613\n",
            "bad         543\n",
            "dtype: int64\n"
          ]
        }
      ]
    },
    {
      "cell_type": "code",
      "source": [
        "Top_Words_Review =pd.Series(clean_neu).value_counts()[:10]\n",
        "print (\"Top Count Words Used In Review:\\n\", Top_Words_Review)"
      ],
      "metadata": {
        "colab": {
          "base_uri": "https://localhost:8080/"
        },
        "id": "O8DEokSIBwdG",
        "outputId": "d289aeeb-29bb-4c75-c43f-809fbcf8344c"
      },
      "execution_count": null,
      "outputs": [
        {
          "output_type": "stream",
          "name": "stdout",
          "text": [
            "Top Count Words Used In Review:\n",
            " nan ok               273\n",
            "good ok              138\n",
            "specified ok         133\n",
            "fair ok               96\n",
            "nan average           92\n",
            "nice ok               88\n",
            "job ok                86\n",
            "decent product ok     84\n",
            "okay ok               74\n",
            "nan bad               69\n",
            "dtype: int64\n"
          ]
        }
      ]
    },
    {
      "cell_type": "markdown",
      "source": [
        "#Positive reviews classification"
      ],
      "metadata": {
        "id": "Krqlm29UFpi5"
      }
    },
    {
      "cell_type": "code",
      "source": [
        "Top_Words_Review =pd.Series(' '.join(clean_pos).lower().split()).value_counts()[:10]\n",
        "print (\"Top Count Words Used In Review:\\n\", Top_Words_Review)"
      ],
      "metadata": {
        "colab": {
          "base_uri": "https://localhost:8080/"
        },
        "id": "tT6APwk0AD17",
        "outputId": "ccd36a2c-ded0-4c12-ce21-891deafdccb8"
      },
      "execution_count": null,
      "outputs": [
        {
          "output_type": "stream",
          "name": "stdout",
          "text": [
            "Top Count Words Used In Review:\n",
            " good        90142\n",
            "product     76791\n",
            "nice        47903\n",
            "quality     20965\n",
            "nan         19413\n",
            "awesome     18691\n",
            "best        16290\n",
            "super       13367\n",
            "purchase    12113\n",
            "worth       12084\n",
            "dtype: int64\n"
          ]
        }
      ]
    },
    {
      "cell_type": "code",
      "source": [
        "Top_Words_Review =pd.DataFrame(clean_pos)\n",
        "Top_Words_Review.rename(columns = {0:'Reviews'}, inplace = True)\n",
        "Top_Words_Review['Reviews'].value_counts()\n",
        "# print (\"Top Count Words Used In Review:\\n\", Top_Words_Review)"
      ],
      "metadata": {
        "colab": {
          "base_uri": "https://localhost:8080/"
        },
        "id": "OwCST0nGBC5j",
        "outputId": "56e3b179-155b-4ee4-f3a3-d0369070602d"
      },
      "execution_count": null,
      "outputs": [
        {
          "output_type": "execute_result",
          "data": {
            "text/plain": [
              "nan good                                     2789\n",
              "nan nice                                     2328\n",
              "wonderful good                               1122\n",
              "nan good product                             1017\n",
              "specified good                                966\n",
              "                                             ... \n",
              "nan good stuff looks good average quality       1\n",
              "nan nice colour perfect picture like            1\n",
              "nan nice wear comfortable                       1\n",
              "nan fast delevery                               1\n",
              "nice nice fast delivery                         1\n",
              "Name: Reviews, Length: 78116, dtype: int64"
            ]
          },
          "metadata": {},
          "execution_count": 128
        }
      ]
    },
    {
      "cell_type": "markdown",
      "source": [
        "#Negative Review classification"
      ],
      "metadata": {
        "id": "MOMsUeV2FuZ7"
      }
    },
    {
      "cell_type": "code",
      "source": [
        "Top_Words_Review =pd.Series(' '.join(clean_neg).lower().split()).value_counts()[:10]\n",
        "print (\"Top Count Words Used In Review:\\n\", Top_Words_Review)"
      ],
      "metadata": {
        "colab": {
          "base_uri": "https://localhost:8080/"
        },
        "id": "8R3mI_0dAiQj",
        "outputId": "9ac50c85-bd2f-4df1-8303-1e6ebad3baa0"
      },
      "execution_count": null,
      "outputs": [
        {
          "output_type": "stream",
          "name": "stdout",
          "text": [
            "Top Count Words Used In Review:\n",
            " product    11580\n",
            "bad         7236\n",
            "quality     7179\n",
            "good        6576\n",
            "money       4562\n",
            "waste       4317\n",
            "dont        4117\n",
            "nan         3831\n",
            "poor        3711\n",
            "worst       3612\n",
            "dtype: int64\n"
          ]
        }
      ]
    },
    {
      "cell_type": "code",
      "source": [
        "Top_Words_Review =pd.Series(clean_neg).value_counts()[:10]\n",
        "print (\"Top Count Words Used In Review:\\n\", Top_Words_Review)"
      ],
      "metadata": {
        "colab": {
          "base_uri": "https://localhost:8080/"
        },
        "id": "ZBgIsERenCEt",
        "outputId": "20fb7123-6c2e-4e71-86f8-f59ada66e952"
      },
      "execution_count": null,
      "outputs": [
        {
          "output_type": "stream",
          "name": "stdout",
          "text": [
            "Top Count Words Used In Review:\n",
            " nan bad                 250\n",
            "nan bad quality         216\n",
            "nan good                212\n",
            "nan bad product         155\n",
            "nan poor quality        139\n",
            "nan quality good         73\n",
            "specified bad            69\n",
            "specified good           60\n",
            "absolute rubbish bad     58\n",
            "nan low quality          57\n",
            "dtype: int64\n"
          ]
        }
      ]
    },
    {
      "cell_type": "code",
      "source": [
        "vectorizer = TfidfVectorizer(stop_words='english')\n",
        "X1_pos = vectorizer.fit_transform(clean_pos)"
      ],
      "metadata": {
        "id": "oKFIvzeVWPQA"
      },
      "execution_count": null,
      "outputs": []
    },
    {
      "cell_type": "code",
      "source": [
        "model = KMeans(n_clusters=2, init='k-means++', max_iter=1000, n_init=1)\n",
        "model.fit(X1_pos)\n",
        "\n",
        "print(\"Top terms per cluster:\")\n",
        "order_centroids = model.cluster_centers_.argsort()[:, ::-1]\n",
        "terms = vectorizer.get_feature_names_out()\n",
        "for i in range(2):\n",
        "    print(\"Cluster %d:\" % i),\n",
        "    for ind in order_centroids[i, :10]:\n",
        "        print(' %s' % terms[ind]),\n",
        "    print"
      ],
      "metadata": {
        "colab": {
          "base_uri": "https://localhost:8080/"
        },
        "id": "InW5mPRUUitc",
        "outputId": "ef3792c2-9b95-49e5-880f-d83bce29d398"
      },
      "execution_count": null,
      "outputs": [
        {
          "output_type": "stream",
          "name": "stdout",
          "text": [
            "Top terms per cluster:\n",
            "Cluster 0:\n",
            " nice\n",
            " product\n",
            " nan\n",
            " awesome\n",
            " super\n",
            " best\n",
            " excellent\n",
            " terrific\n",
            " good\n",
            " purchase\n",
            "Cluster 1:\n",
            " good\n",
            " product\n",
            " nan\n",
            " quality\n",
            " nice\n",
            " wonderful\n",
            " terrific\n",
            " awesome\n",
            " choice\n",
            " specified\n"
          ]
        }
      ]
    },
    {
      "cell_type": "code",
      "source": [
        "\n",
        "from nltk.sentiment.vader import SentimentIntensityAnalyzer\n",
        "from nltk.sentiment import SentimentAnalyzer\n",
        "import nltk\n",
        "nltk.download('vader_lexicon')"
      ],
      "metadata": {
        "colab": {
          "base_uri": "https://localhost:8080/"
        },
        "id": "PUnAUzqFgNhS",
        "outputId": "82a78b20-19b3-4a59-ee9f-596197931016"
      },
      "execution_count": null,
      "outputs": [
        {
          "output_type": "stream",
          "name": "stderr",
          "text": [
            "[nltk_data] Downloading package vader_lexicon to /root/nltk_data...\n"
          ]
        },
        {
          "output_type": "execute_result",
          "data": {
            "text/plain": [
              "True"
            ]
          },
          "metadata": {},
          "execution_count": 40
        }
      ]
    },
    {
      "cell_type": "code",
      "source": [
        "sid = SentimentIntensityAnalyzer()\n",
        "print(data1['Reviews'][3])\n",
        "ss = sid.polarity_scores(data1['Reviews'][3])\n",
        "for k in sorted(ss):\n",
        "  (print('{0}: {1}, '.format(k, ss[k]), end=''))\n",
        "\n",
        "print('\\n\\n'+ data1['Reviews'][80])\n",
        "ss = sid.polarity_scores(data1['Reviews'][80])\n",
        "for k in sorted(ss):\n",
        "  (print('{0}: {1}, '.format(k, ss[k]), end=''))  \n",
        "  \n",
        "print('\\n\\n'+ data1['Reviews'][150])\n",
        "ss = sid.polarity_scores(data1['Reviews'][150])\n",
        "for k in sorted(ss):\n",
        "  (print('{0}: {1}, '.format(k, ss[k]), end=''))    "
      ],
      "metadata": {
        "colab": {
          "base_uri": "https://localhost:8080/"
        },
        "id": "AYSoZxKdmBDA",
        "outputId": "303002b4-f2c0-4cc2-93ff-23eea3d2a5e9"
      },
      "execution_count": null,
      "outputs": [
        {
          "output_type": "stream",
          "name": "stdout",
          "text": [
            "useless product very bad product its a only a fan\n",
            "compound: -0.6478, neg: 0.475, neu: 0.36, pos: 0.166, \n",
            "\n",
            "not good poar quality plastic material is not good\n",
            "compound: -0.5875, neg: 0.407, neu: 0.593, pos: 0.0, \n",
            "\n",
            "really nice good product\n",
            "compound: 0.7408, neg: 0.0, neu: 0.242, pos: 0.758, "
          ]
        }
      ]
    }
  ]
}